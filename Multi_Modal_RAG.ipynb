{
  "cells": [
    {
      "cell_type": "markdown",
      "source": [],
      "metadata": {
        "id": "RaoZ_YqFM1Dt"
      },
      "id": "RaoZ_YqFM1Dt"
    },
    {
      "cell_type": "code",
      "source": [
        "%%capture\n",
        "!pip install \"openai>=1\" \"langchain>=0.0.331rc2\" \"unstructured[all-docs]\" pillow pydantic lxml pillow matplotlib chromadb tiktoken watermark\n",
        "\n"
      ],
      "metadata": {
        "id": "e6DjGH1MlSiq"
      },
      "id": "e6DjGH1MlSiq",
      "execution_count": 1,
      "outputs": []
    },
    {
      "cell_type": "code",
      "source": [
        "%%capture\n",
        "!apt-get update\n",
        "\n",
        "\n",
        "!sudo apt-get install poppler-utils tesseract-ocr"
      ],
      "metadata": {
        "id": "HhK-vQmdqfOE"
      },
      "id": "HhK-vQmdqfOE",
      "execution_count": 2,
      "outputs": []
    },
    {
      "cell_type": "code",
      "source": [
        "!pip install langchain-community"
      ],
      "metadata": {
        "id": "ltgvDukln3Fq",
        "colab": {
          "base_uri": "https://localhost:8080/"
        },
        "outputId": "24da761c-30b1-4655-f199-9544ddc1e27e"
      },
      "id": "ltgvDukln3Fq",
      "execution_count": 3,
      "outputs": [
        {
          "output_type": "stream",
          "name": "stdout",
          "text": [
            "Collecting langchain-community\n",
            "  Downloading langchain_community-0.3.9-py3-none-any.whl.metadata (2.9 kB)\n",
            "Requirement already satisfied: PyYAML>=5.3 in /usr/local/lib/python3.10/dist-packages (from langchain-community) (6.0.2)\n",
            "Requirement already satisfied: SQLAlchemy<3,>=1.4 in /usr/local/lib/python3.10/dist-packages (from langchain-community) (2.0.36)\n",
            "Requirement already satisfied: aiohttp<4.0.0,>=3.8.3 in /usr/local/lib/python3.10/dist-packages (from langchain-community) (3.11.2)\n",
            "Requirement already satisfied: dataclasses-json<0.7,>=0.5.7 in /usr/local/lib/python3.10/dist-packages (from langchain-community) (0.6.7)\n",
            "Collecting httpx-sse<0.5.0,>=0.4.0 (from langchain-community)\n",
            "  Downloading httpx_sse-0.4.0-py3-none-any.whl.metadata (9.0 kB)\n",
            "Collecting langchain<0.4.0,>=0.3.8 (from langchain-community)\n",
            "  Downloading langchain-0.3.9-py3-none-any.whl.metadata (7.1 kB)\n",
            "Collecting langchain-core<0.4.0,>=0.3.21 (from langchain-community)\n",
            "  Downloading langchain_core-0.3.21-py3-none-any.whl.metadata (6.3 kB)\n",
            "Requirement already satisfied: langsmith<0.2.0,>=0.1.125 in /usr/local/lib/python3.10/dist-packages (from langchain-community) (0.1.143)\n",
            "Requirement already satisfied: numpy<2,>=1.22.4 in /usr/local/lib/python3.10/dist-packages (from langchain-community) (1.26.4)\n",
            "Collecting pydantic-settings<3.0.0,>=2.4.0 (from langchain-community)\n",
            "  Downloading pydantic_settings-2.6.1-py3-none-any.whl.metadata (3.5 kB)\n",
            "Requirement already satisfied: requests<3,>=2 in /usr/local/lib/python3.10/dist-packages (from langchain-community) (2.32.3)\n",
            "Requirement already satisfied: tenacity!=8.4.0,<10,>=8.1.0 in /usr/local/lib/python3.10/dist-packages (from langchain-community) (9.0.0)\n",
            "Requirement already satisfied: aiohappyeyeballs>=2.3.0 in /usr/local/lib/python3.10/dist-packages (from aiohttp<4.0.0,>=3.8.3->langchain-community) (2.4.3)\n",
            "Requirement already satisfied: aiosignal>=1.1.2 in /usr/local/lib/python3.10/dist-packages (from aiohttp<4.0.0,>=3.8.3->langchain-community) (1.3.1)\n",
            "Requirement already satisfied: attrs>=17.3.0 in /usr/local/lib/python3.10/dist-packages (from aiohttp<4.0.0,>=3.8.3->langchain-community) (24.2.0)\n",
            "Requirement already satisfied: frozenlist>=1.1.1 in /usr/local/lib/python3.10/dist-packages (from aiohttp<4.0.0,>=3.8.3->langchain-community) (1.5.0)\n",
            "Requirement already satisfied: multidict<7.0,>=4.5 in /usr/local/lib/python3.10/dist-packages (from aiohttp<4.0.0,>=3.8.3->langchain-community) (6.1.0)\n",
            "Requirement already satisfied: propcache>=0.2.0 in /usr/local/lib/python3.10/dist-packages (from aiohttp<4.0.0,>=3.8.3->langchain-community) (0.2.0)\n",
            "Requirement already satisfied: yarl<2.0,>=1.17.0 in /usr/local/lib/python3.10/dist-packages (from aiohttp<4.0.0,>=3.8.3->langchain-community) (1.17.2)\n",
            "Requirement already satisfied: async-timeout<6.0,>=4.0 in /usr/local/lib/python3.10/dist-packages (from aiohttp<4.0.0,>=3.8.3->langchain-community) (4.0.3)\n",
            "Requirement already satisfied: marshmallow<4.0.0,>=3.18.0 in /usr/local/lib/python3.10/dist-packages (from dataclasses-json<0.7,>=0.5.7->langchain-community) (3.23.1)\n",
            "Requirement already satisfied: typing-inspect<1,>=0.4.0 in /usr/local/lib/python3.10/dist-packages (from dataclasses-json<0.7,>=0.5.7->langchain-community) (0.9.0)\n",
            "Requirement already satisfied: langchain-text-splitters<0.4.0,>=0.3.0 in /usr/local/lib/python3.10/dist-packages (from langchain<0.4.0,>=0.3.8->langchain-community) (0.3.2)\n",
            "Requirement already satisfied: pydantic<3.0.0,>=2.7.4 in /usr/local/lib/python3.10/dist-packages (from langchain<0.4.0,>=0.3.8->langchain-community) (2.9.2)\n",
            "Requirement already satisfied: jsonpatch<2.0,>=1.33 in /usr/local/lib/python3.10/dist-packages (from langchain-core<0.4.0,>=0.3.21->langchain-community) (1.33)\n",
            "Requirement already satisfied: packaging<25,>=23.2 in /usr/local/lib/python3.10/dist-packages (from langchain-core<0.4.0,>=0.3.21->langchain-community) (24.2)\n",
            "Requirement already satisfied: typing-extensions>=4.7 in /usr/local/lib/python3.10/dist-packages (from langchain-core<0.4.0,>=0.3.21->langchain-community) (4.12.2)\n",
            "Requirement already satisfied: httpx<1,>=0.23.0 in /usr/local/lib/python3.10/dist-packages (from langsmith<0.2.0,>=0.1.125->langchain-community) (0.27.2)\n",
            "Requirement already satisfied: orjson<4.0.0,>=3.9.14 in /usr/local/lib/python3.10/dist-packages (from langsmith<0.2.0,>=0.1.125->langchain-community) (3.10.11)\n",
            "Requirement already satisfied: requests-toolbelt<2.0.0,>=1.0.0 in /usr/local/lib/python3.10/dist-packages (from langsmith<0.2.0,>=0.1.125->langchain-community) (1.0.0)\n",
            "Requirement already satisfied: python-dotenv>=0.21.0 in /usr/local/lib/python3.10/dist-packages (from pydantic-settings<3.0.0,>=2.4.0->langchain-community) (1.0.1)\n",
            "Requirement already satisfied: charset-normalizer<4,>=2 in /usr/local/lib/python3.10/dist-packages (from requests<3,>=2->langchain-community) (3.4.0)\n",
            "Requirement already satisfied: idna<4,>=2.5 in /usr/local/lib/python3.10/dist-packages (from requests<3,>=2->langchain-community) (3.10)\n",
            "Requirement already satisfied: urllib3<3,>=1.21.1 in /usr/local/lib/python3.10/dist-packages (from requests<3,>=2->langchain-community) (2.2.3)\n",
            "Requirement already satisfied: certifi>=2017.4.17 in /usr/local/lib/python3.10/dist-packages (from requests<3,>=2->langchain-community) (2024.8.30)\n",
            "Requirement already satisfied: greenlet!=0.4.17 in /usr/local/lib/python3.10/dist-packages (from SQLAlchemy<3,>=1.4->langchain-community) (3.1.1)\n",
            "Requirement already satisfied: anyio in /usr/local/lib/python3.10/dist-packages (from httpx<1,>=0.23.0->langsmith<0.2.0,>=0.1.125->langchain-community) (3.7.1)\n",
            "Requirement already satisfied: httpcore==1.* in /usr/local/lib/python3.10/dist-packages (from httpx<1,>=0.23.0->langsmith<0.2.0,>=0.1.125->langchain-community) (1.0.7)\n",
            "Requirement already satisfied: sniffio in /usr/local/lib/python3.10/dist-packages (from httpx<1,>=0.23.0->langsmith<0.2.0,>=0.1.125->langchain-community) (1.3.1)\n",
            "Requirement already satisfied: h11<0.15,>=0.13 in /usr/local/lib/python3.10/dist-packages (from httpcore==1.*->httpx<1,>=0.23.0->langsmith<0.2.0,>=0.1.125->langchain-community) (0.14.0)\n",
            "Requirement already satisfied: jsonpointer>=1.9 in /usr/local/lib/python3.10/dist-packages (from jsonpatch<2.0,>=1.33->langchain-core<0.4.0,>=0.3.21->langchain-community) (3.0.0)\n",
            "Requirement already satisfied: annotated-types>=0.6.0 in /usr/local/lib/python3.10/dist-packages (from pydantic<3.0.0,>=2.7.4->langchain<0.4.0,>=0.3.8->langchain-community) (0.7.0)\n",
            "Requirement already satisfied: pydantic-core==2.23.4 in /usr/local/lib/python3.10/dist-packages (from pydantic<3.0.0,>=2.7.4->langchain<0.4.0,>=0.3.8->langchain-community) (2.23.4)\n",
            "Requirement already satisfied: mypy-extensions>=0.3.0 in /usr/local/lib/python3.10/dist-packages (from typing-inspect<1,>=0.4.0->dataclasses-json<0.7,>=0.5.7->langchain-community) (1.0.0)\n",
            "Requirement already satisfied: exceptiongroup in /usr/local/lib/python3.10/dist-packages (from anyio->httpx<1,>=0.23.0->langsmith<0.2.0,>=0.1.125->langchain-community) (1.2.2)\n",
            "Downloading langchain_community-0.3.9-py3-none-any.whl (2.4 MB)\n",
            "\u001b[2K   \u001b[90m━━━━━━━━━━━━━━━━━━━━━━━━━━━━━━━━━━━━━━━━\u001b[0m \u001b[32m2.4/2.4 MB\u001b[0m \u001b[31m16.4 MB/s\u001b[0m eta \u001b[36m0:00:00\u001b[0m\n",
            "\u001b[?25hDownloading httpx_sse-0.4.0-py3-none-any.whl (7.8 kB)\n",
            "Downloading langchain-0.3.9-py3-none-any.whl (1.0 MB)\n",
            "\u001b[2K   \u001b[90m━━━━━━━━━━━━━━━━━━━━━━━━━━━━━━━━━━━━━━━━\u001b[0m \u001b[32m1.0/1.0 MB\u001b[0m \u001b[31m22.2 MB/s\u001b[0m eta \u001b[36m0:00:00\u001b[0m\n",
            "\u001b[?25hDownloading langchain_core-0.3.21-py3-none-any.whl (409 kB)\n",
            "\u001b[2K   \u001b[90m━━━━━━━━━━━━━━━━━━━━━━━━━━━━━━━━━━━━━━━━\u001b[0m \u001b[32m409.5/409.5 kB\u001b[0m \u001b[31m21.8 MB/s\u001b[0m eta \u001b[36m0:00:00\u001b[0m\n",
            "\u001b[?25hDownloading pydantic_settings-2.6.1-py3-none-any.whl (28 kB)\n",
            "Installing collected packages: httpx-sse, pydantic-settings, langchain-core, langchain, langchain-community\n",
            "  Attempting uninstall: langchain-core\n",
            "    Found existing installation: langchain-core 0.3.19\n",
            "    Uninstalling langchain-core-0.3.19:\n",
            "      Successfully uninstalled langchain-core-0.3.19\n",
            "  Attempting uninstall: langchain\n",
            "    Found existing installation: langchain 0.3.7\n",
            "    Uninstalling langchain-0.3.7:\n",
            "      Successfully uninstalled langchain-0.3.7\n",
            "Successfully installed httpx-sse-0.4.0 langchain-0.3.9 langchain-community-0.3.9 langchain-core-0.3.21 pydantic-settings-2.6.1\n"
          ]
        }
      ]
    },
    {
      "cell_type": "code",
      "source": [
        "\n",
        "\n",
        "import os\n",
        "import openai\n",
        "import io\n",
        "import uuid\n",
        "import base64\n",
        "from base64 import b64decode\n",
        "import numpy as np\n",
        "from PIL import Image\n",
        "\n",
        "from unstructured.partition.pdf import partition_pdf\n",
        "\n",
        "from langchain.chat_models import ChatOpenAI\n",
        "from langchain.schema.messages import HumanMessage, SystemMessage\n",
        "from langchain.vectorstores import Chroma\n",
        "from langchain.storage import InMemoryStore\n",
        "from langchain.schema.document import Document\n",
        "from langchain.embeddings import OpenAIEmbeddings\n",
        "from langchain.retrievers.multi_vector import MultiVectorRetriever\n",
        "from langchain.chat_models import ChatOpenAI\n",
        "from langchain.prompts import ChatPromptTemplate\n",
        "from langchain.schema.output_parser import StrOutputParser\n",
        "from langchain.schema.runnable import RunnablePassthrough, RunnableLambda\n",
        "\n",
        "from operator import itemgetter"
      ],
      "metadata": {
        "id": "-H8AuGXonQ_Q"
      },
      "id": "-H8AuGXonQ_Q",
      "execution_count": 4,
      "outputs": []
    },
    {
      "cell_type": "code",
      "source": [
        "\n",
        "import random\n",
        "import numpy as np\n",
        "\n",
        "# Set the seeds\n",
        "random.seed(42)\n",
        "np.random.seed(42)"
      ],
      "metadata": {
        "id": "dMB3nFBqCzzS"
      },
      "id": "dMB3nFBqCzzS",
      "execution_count": 5,
      "outputs": []
    },
    {
      "cell_type": "code",
      "source": [
        "from google.colab import userdata\n",
        "\n",
        "api_key = userdata.get('OPENAI_KEY')           # <-- change this as per your secret's name\n",
        "os.environ['OPENAI_API_KEY'] = api_key\n",
        "openai.api_key = os.getenv('OPENAI_API_KEY')\n",
        "#os.environ[\"OPENAI_API_KEY\"] = OPENAI_KEY\n",
        "#openai.api_key = os.environ[\"OPENAI_API_KEY\"]\n",
        "\n"
      ],
      "metadata": {
        "id": "F8wMwpPbn8hY"
      },
      "id": "F8wMwpPbn8hY",
      "execution_count": 6,
      "outputs": []
    },
    {
      "cell_type": "markdown",
      "source": [
        "# New Section"
      ],
      "metadata": {
        "id": "Sbtxqmky32tJ"
      },
      "id": "Sbtxqmky32tJ"
    },
    {
      "cell_type": "code",
      "source": [
        "# load the pdf file to drive\n",
        "# split the file to text, table and images\n",
        "def doc_partition(path,file_name):\n",
        "\n",
        "  raw_pdf_elements = partition_pdf(\n",
        "    filename=path + file_name,\n",
        "    image_output_dir_path=path,\n",
        "     extract_images_in_pdf=True,\n",
        "    infer_table_structure=True,\n",
        "    chunking_strategy=\"by_title\",\n",
        "    max_characters=4000,\n",
        "    new_after_n_chars=3800,\n",
        "    combine_text_under_n_chars=2000,\n",
        "    )\n",
        "\n",
        "  return raw_pdf_elements\n",
        "poppler_path = \"/content/\"\n",
        "path = \"/content/\"\n",
        "file_name = \"multi_modal_fin.pdf\"\n",
        "raw_pdf_elements = doc_partition(path,file_name)"
      ],
      "metadata": {
        "id": "Miif4QDK8V9v",
        "colab": {
          "base_uri": "https://localhost:8080/",
          "height": 214,
          "referenced_widgets": [
            "f6e2154aa6804f0db5d32ed773ebbb9b",
            "de11ae1a06864d08891092458fd5cae7",
            "ebe392379a614ddda740b50c5f6a2fa9",
            "35415ff847c44178a2840698b10242fd",
            "f79bb2aa30104687aa494f89afc64bdf",
            "620543d23f67496da679431e9bf2c6ba",
            "3d9418f2195c4ab8ba85b232bbcb503b",
            "a04574e484294f3aa815e53e388cd8b2",
            "ee07612dfb9a4a26a74eaa74ab743079",
            "d850083fd8f74d44b37b79a3aa3a0054",
            "91a912cd9ce64c60b6b9d5ad17fe4c21",
            "86c427473c13422b9e1eeac2426eb93e",
            "16ad25eeaa9e4c9a9f6e717515b9b75c",
            "f21b6442cfd143a3a4463088ccb4f6f6",
            "ff1b6ce48c9f42d8a049208f5c8c4907",
            "9eb078d59a734f8aa28a53bf37924ecb",
            "b67b988fc2ae4b5db8905f7463eaf416",
            "a76bbd2f70fe47bf8f884793c84cd01b",
            "00191560659d4557a1dea54c3545af71",
            "05f9bd6e0d18416f8a915cdfc485efa8",
            "4be1ec62eedc4b9d95a74f54abca14ef",
            "6cc74832e55d4173b8f8abf568ab0a96",
            "18c43c5824a64a53b340e90e4657e020",
            "35bf2bea790c47ceb5e324370e115b44",
            "928a584d3a8e421694e327a7a917e09c",
            "9fd49665ed294bbea417315f5a5f615b",
            "d1e7142b29e144a4ad874cfd632161fa",
            "b40912b400b640fa99e155a0433528d3",
            "cd1b76f188f547999fd57089556ad687",
            "ef325a87023c4b25a1c7c42d5aa989e5",
            "785990ce442c4708a120aec1a465fc06",
            "571b623d2e1f4fe0876a9b0964140813",
            "5f2037cbf8864557b23802f285f03a1a",
            "777364fd55c243758c4caa98a91612cf",
            "48b6a3f56e524ce1b3513bc081eafe34",
            "f9131c74800e4e128654b658751b2cb0",
            "77a2ddc3819846bd932429f42c5ddccd",
            "189b7c54eafc4c37a6f34230b6016a28",
            "fdcd917acaa24c45bf36c22588e27f58",
            "8fee5cd965d74e069b446de0d3d5330b",
            "87309e2c3f53402b8fc2d67fa53bc6c7",
            "0156cddb828241ec819ff1b5faa1fc65",
            "e102474c127e4fa0a74cfba76e301c02",
            "c1b42189de3d485b93ccbfbc8110715f",
            "69db27e2347948178a55e4f44a705496",
            "ca60ea3d94b74a0ba41ba1886214d04d",
            "d6e3747dd5df4811ab09acd4c3ecbaa6",
            "3f6c00a530384a0dbdc43cc2768bc05b",
            "f401cc8c23a64ecf94175bd4027b6051",
            "2fbeb7f419614355b100690a68fe66cd",
            "d466cb176cec479fab5af97b96e325ac",
            "05e0dc4a2a884b209472a200846844bf",
            "8a9e5fc07acb4debb3c2c54c12df0b70",
            "44f94ec129034fe98a7c252d98b730ba",
            "0f1d0d0337c94c99818dd43c83f10243"
          ]
        },
        "outputId": "4f80a21e-db16-4a3e-a590-42104601cd18"
      },
      "id": "Miif4QDK8V9v",
      "execution_count": 7,
      "outputs": [
        {
          "output_type": "display_data",
          "data": {
            "text/plain": [
              "yolox_l0.05.onnx:   0%|          | 0.00/217M [00:00<?, ?B/s]"
            ],
            "application/vnd.jupyter.widget-view+json": {
              "version_major": 2,
              "version_minor": 0,
              "model_id": "f6e2154aa6804f0db5d32ed773ebbb9b"
            }
          },
          "metadata": {}
        },
        {
          "output_type": "stream",
          "name": "stderr",
          "text": [
            "The cache for model files in Transformers v4.22.0 has been updated. Migrating your old cache. This is a one-time only operation. You can interrupt this and resume the migration later on by calling `transformers.utils.move_cache()`.\n"
          ]
        },
        {
          "output_type": "display_data",
          "data": {
            "text/plain": [
              "0it [00:00, ?it/s]"
            ],
            "application/vnd.jupyter.widget-view+json": {
              "version_major": 2,
              "version_minor": 0,
              "model_id": "86c427473c13422b9e1eeac2426eb93e"
            }
          },
          "metadata": {}
        },
        {
          "output_type": "display_data",
          "data": {
            "text/plain": [
              "config.json:   0%|          | 0.00/1.47k [00:00<?, ?B/s]"
            ],
            "application/vnd.jupyter.widget-view+json": {
              "version_major": 2,
              "version_minor": 0,
              "model_id": "18c43c5824a64a53b340e90e4657e020"
            }
          },
          "metadata": {}
        },
        {
          "output_type": "display_data",
          "data": {
            "text/plain": [
              "model.safetensors:   0%|          | 0.00/115M [00:00<?, ?B/s]"
            ],
            "application/vnd.jupyter.widget-view+json": {
              "version_major": 2,
              "version_minor": 0,
              "model_id": "777364fd55c243758c4caa98a91612cf"
            }
          },
          "metadata": {}
        },
        {
          "output_type": "display_data",
          "data": {
            "text/plain": [
              "model.safetensors:   0%|          | 0.00/46.8M [00:00<?, ?B/s]"
            ],
            "application/vnd.jupyter.widget-view+json": {
              "version_major": 2,
              "version_minor": 0,
              "model_id": "69db27e2347948178a55e4f44a705496"
            }
          },
          "metadata": {}
        }
      ]
    },
    {
      "cell_type": "code",
      "source": [
        "# appending texts and tables from the pdf file\n",
        "def data_category(raw_pdf_elements): # we may use decorator here\n",
        "    tables = []\n",
        "    texts = []\n",
        "    for element in raw_pdf_elements:\n",
        "        if \"unstructured.documents.elements.Table\" in str(type(element)):\n",
        "           tables.append(str(element))\n",
        "        elif \"unstructured.documents.elements.CompositeElement\" in str(type(element)):\n",
        "           texts.append(str(element))\n",
        "    data_category = [texts,tables]\n",
        "    return data_category\n",
        "texts = data_category(raw_pdf_elements)[0]\n",
        "tables = data_category(raw_pdf_elements)[1]\n",
        "print(texts)\n",
        "print(tables)"
      ],
      "metadata": {
        "id": "aLe-GW4dKyxo",
        "colab": {
          "base_uri": "https://localhost:8080/"
        },
        "outputId": "528e9493-f05e-448f-f34d-f4947bd4a557"
      },
      "id": "aLe-GW4dKyxo",
      "execution_count": 8,
      "outputs": [
        {
          "output_type": "stream",
          "name": "stdout",
          "text": [
            "['ADANI ENTERPRISES LIMITED\\n\\n176 ANNUAL REPORT 2022-23\\n\\n(b) Depositories:\\n\\n1. National Securities Depository Limited (NSDL) Trade World, 4th Floor, Kamala Mills Compound, Senapati Bapat Marg, Lower Parel, Mumbai – 400 013.\\n\\n2. Central Depository Services (India) Limited (CDSL)\\n\\n25th Floor, A Wing, Marathon Futurex, Mafatlal Millis Compound, NM Joshi Marg, Lower Parel (E), Mumbai - 400013\\n\\nAnnual Listing fee of BSE & NSE and Annual Custody / Issuer fee of NSDL & CDSL for FY 2023-24 are paid to respective agencies.\\n\\nI. Market Price Data: High, Low during each month in Financial Year 2022-23.\\n\\nMonthly share price movement during the year 2022-23 at BSE & NSE:', 'Volume\\n\\n[Source: This information is compiled from the data available from the websites of BSE and NSE]\\n\\nJ. Performance in comparison to broad-based indices such as BSE Sensex.\\n\\nBSE Sensex  AEL Share Price  64,000.00  4500.00  62,000.00  4000.00  X  60,000.00  3500.00  e  c  i  E  S  N  E  S     E  S  B  58,000.00  56,000.00  54,000.00  52,000.00  3000.00  2500.00  2000.00  1500.00  r  P     e  r  a  h  S     L  E  A  50,000.00  1000.00  48,000.00  500.00  44,000.00  0.00  A pr-22  M ay-22  Ju n-22  Jul-22  A u g-22  S ep-22  O ct-22  N ov-22  D ec-22  Jan-23  Feb-23  M ar-23  Months \\n\\nK. Registrar and Share Transfer Agents:\\n\\nM/s. Link Intime India Private Limited are appointed as Registrar and Share Transfer (R&T) Agents of the Company for both Physical and Demat Shares. The address is given below:\\n\\nM/s. Link Intime India Private Limited\\n\\n5th Floor, 506 to 508, Amarnath Business Centre - 1 (ABC-1), Beside Gala Business Centre, Nr. St. Xavier’s College Corner, Off C G Road, Ellisbridge, Ahmedabad – 380006\\n\\nTel: +91-79- 26465179\\n\\nFax : +91-79-26465179\\n\\nContact Person: Mr. Nilesh Dalwadi\\n\\nShareholders are requested to correspond directly with the R & T Agent for queries pertaining to their shares such as transfer / transmission of shares, change of address, queries pertaining to their shares, dividend etc.\\n\\nL. Transfer to Investor Education and Protection Fund (IEPF)\\n\\nIn terms of Section 124(6) of the Act read with Investor Education and Protection Fund Authority (Accounting, Auditing, Transfer and Refund) Rules, 2016, the Company has transferred the shares to the demat account of IEPF Authority in respect of which the dividend has not been claimed for a continuous period of seven years or more.\\n\\nThe Company had communicated to all the concerned shareholders individually whose shares were liable to be transferred to IEPF. The Company had also given newspaper advertisements, before such transfer in favour of IEPF. The Company had also uploaded the details of such shareholders and shares transferred to IEPF on the website of the Company at https:// www.adanienterprises.com/investors/corporate- governance\\n\\nIn terms of the Section 125 of the Act, the amount of dividend that remained unclaimed for a period of seven years is required to be transferred to the Investor Education and Protection Fund (IEPF) administered by the Central Government. To ensure maximum disbursement of unclaimed dividend, the Company sends reminders to the relevant shareholders, before transfer of dividend to IEPF.\\n\\nDuring the year, your Company has transferred the unclaimed and un-encashed dividend of FY 2014-15 amounting H11,05,487 along with 23,780 corresponding shares, as per the requirements of the IEPF Rules.\\n\\nCORPORATE OVERVIEW STATUTORY REPORTS', 'FINANCIAL STATEMENTS\\n\\nShareholders may note that both the unclaimed dividend and corresponding shares transferred to the IEPF Authority including all benefits accruing on such shares, if any, can be claimed back by them from IEPF Authority after following the procedure (i.e. an application in E-form No. IEPF-5) prescribed in the Rules. Shareholders may refer Rule 7 of the said Rules for Refund of shares / dividend etc.\\n\\nM. Share Transfer System:\\n\\nThe Company’s shares are compulsorily traded in the demat segment on stock exchanges, bulk of the transfers take place in the electronic form. The share transfers received in physical form are processed through R & T Agent, within seven days from the date of receipt, subject to the documents being valid and complete in all respects. The Board has delegated the authority for approving transfer, transmission, issue of duplicate share certificate, dematerialization etc. to the Securities Transfer Committee. All the physical transfers received are processed by the R & T Agent and are approved by the Securities Transfer Committee well within the statutory period of one month. The Securities Transfer Committee meets every fortnight for approval of the transfer, transmission, issue of duplicate share certificate, dematerialization / rematerialization of shares etc. and all valid share transfers received during the year ended 31st March, 2023 have been acted upon. The share certificates duly endorsed are returned immediately to the shareholders by the R & T\\n\\nAgent.\\n\\nDuring the year under review, the Company obtained following certificate(s) from a Practicing Company Secretary and submitted the same to the stock exchanges within stipulated time:\\n\\n1. Certificate confirming due compliance of share transfer formalities by the Company pursuant to Regulation 40(9) of the SEBI Listing Regulations for year ended 31st March, 2023 respectively with the Stock Exchanges; and\\n\\n2. Certificate regarding reconciliation of the share capital audit of the Company on quarterly basis.\\n\\nAll share transfer and other communication regarding share certificates, change of address, dividend etc. should be addressed to R & T Agents of the Company at the address given above.\\n\\n177']\n",
            "['Month BSE NSE High (H) Low (H) Volume High (H) Low (H) (No. of shares) (No. of shares) April, 2022 2,420.00 2,014.00 26,00,574 2,420.95 2,013.05 4,00,68,588 May, 2022 2,363.95 1,906.05 21,22,636 2,362.90 1,906.20 3,39,18,429 June, 2022 2,254.40 2,025.00 15,50,046 2,274.00 2,025.00 4,05,85,829 July, 2022 2,622.00 2,140.50 11,89,505 2,622.00 2,138.25 2,38,23,202 August, 2022 3,262.55 2,569.30 25,95,750 3,263.10 2,569.20 4,72,95,403 September, 2022 3,883.70 3,186.00 34,82,350 3,885.00 3,184.40 8,39,30,311 October, 2022 3,459.05 3,105.90 22,27,754 3,460.05 3,110.20 4,07,71,715 November, 2022 4,098.10 3,351.10 21,01,814 4,096.00 3,352.00 5,34,22,331 December, 2022 4,189.55 3,617.00 13,63,926 4,190.00 3,616.80 4,08,08,180 January, 2023 3,879.00 2,666.00 42,71,692 3,880.00 2,665.00 7,96,52,039 February, 2023 3,030.00 1,017.10 1,97,81,065 3,010.75 1,017.45 30,93,71,332 March, 2023 2,135.00 1,408.10 5,52,47,455 2,135.00 1,407.90 22,80,29,587']\n"
          ]
        }
      ]
    },
    {
      "cell_type": "code",
      "source": [
        "# function to take tables and text and then summarize tables only,\n",
        "def tables_summarize(data_category):\n",
        "    prompt_text = \"\"\"You are an assistant tasked with summarizing tables and text. \\\n",
        "                    Give a concise summary of the table or text. Table or text chunk: {element} \"\"\"\n",
        "\n",
        "    prompt = ChatPromptTemplate.from_template(prompt_text)\n",
        "    model = ChatOpenAI(temperature=0, model=\"gpt-4\")\n",
        "    summarize_chain = {\"element\": lambda x: x} | prompt | model | StrOutputParser()\n",
        "    table_summaries = summarize_chain.batch(tables, {\"max_concurrency\": 5})\n",
        "    #text_summaries =  summarize_chain.batch(data_category[0], {\"max_concurrency\": 5})# no need to summarize\n",
        "\n",
        "    return table_summaries\n",
        "table_summaries = tables_summarize(data_category)\n",
        "text_summaries = texts\n",
        "\n",
        "print(table_summaries)"
      ],
      "metadata": {
        "id": "e1LFX8ddObER",
        "colab": {
          "base_uri": "https://localhost:8080/"
        },
        "outputId": "4fe67e5f-89a7-4998-e178-f7f92575a88a"
      },
      "id": "e1LFX8ddObER",
      "execution_count": 9,
      "outputs": [
        {
          "output_type": "stream",
          "name": "stderr",
          "text": [
            "<ipython-input-9-86a6771886a2>:7: LangChainDeprecationWarning: The class `ChatOpenAI` was deprecated in LangChain 0.0.10 and will be removed in 1.0. An updated version of the class exists in the :class:`~langchain-openai package and should be used instead. To use it run `pip install -U :class:`~langchain-openai` and import as `from :class:`~langchain_openai import ChatOpenAI``.\n",
            "  model = ChatOpenAI(temperature=0, model=\"gpt-4\")\n"
          ]
        },
        {
          "output_type": "stream",
          "name": "stdout",
          "text": [
            "['The table provides a monthly breakdown of the high and low share prices on the BSE and NSE from April 2022 to March 2023. The highest share price on the BSE was in December 2022 at 4,189.55, while the lowest was in February 2023 at 1,017.10. The highest volume of shares traded was in March 2023 with 5,52,47,455 shares. On the NSE, the highest share price was also in December 2022 at 4,190.00, and the lowest was in February 2023 at 1,017.45. The highest volume of shares traded on the NSE was in March 2023 with 22,80,29,587 shares.']\n"
          ]
        }
      ]
    },
    {
      "cell_type": "code",
      "source": [
        "def encode_image(image_path):\n",
        "    ''' Getting the base64 string '''\n",
        "    with open(image_path, \"rb\") as image_file:\n",
        "        return base64.b64encode(image_file.read()).decode('utf-8')\n",
        "\n",
        "def image_captioning(img_base64,prompt):\n",
        "    ''' Image summary '''\n",
        "   # chat = ChatOpenAI(model=\"gpt-4-vision-preview\",\n",
        "    chat = ChatOpenAI(model=\"gpt-4o-mini\",\n",
        "                       max_tokens=1024)\n",
        "\n",
        "    msg = chat.invoke(\n",
        "        [\n",
        "            HumanMessage(\n",
        "                content=[\n",
        "                    {\"type\": \"text\", \"text\":prompt},\n",
        "                    {\n",
        "                        \"type\": \"image_url\",\n",
        "                        \"image_url\": {\n",
        "                            \"url\": f\"data:image/jpeg;base64,{img_base64}\"\n",
        "                        },\n",
        "                    },\n",
        "                ]\n",
        "            )\n",
        "        ]\n",
        "    )\n",
        "    return msg.content"
      ],
      "metadata": {
        "id": "zWoEaL7aTjlq"
      },
      "id": "zWoEaL7aTjlq",
      "execution_count": 10,
      "outputs": []
    },
    {
      "cell_type": "code",
      "source": [],
      "metadata": {
        "id": "E0X54tEtCxz6"
      },
      "id": "E0X54tEtCxz6",
      "execution_count": null,
      "outputs": []
    },
    {
      "cell_type": "code",
      "source": [
        "import time\n",
        "# Store base64 encoded images\n",
        "path = \"/content/figures\"\n",
        "img_base64_list = []\n",
        "\n",
        "# Store image summaries\n",
        "image_summaries = []\n",
        "\n",
        "# Prompt\n",
        "prompt = \"Describe the image in detail. Be specific about graphs, such as bar plots.\"\n",
        "\n",
        "# Read images, encode to base64 strings\n",
        "for img_file in sorted(os.listdir(path)):\n",
        "    if img_file.endswith('.jpg'):\n",
        "        img_path = os.path.join(path, img_file)\n",
        "        base64_image = encode_image(img_path)\n",
        "        img_base64_list.append(base64_image)\n",
        "        #image_summaries.append(image_captioning(base64_image,prompt))\n",
        "        img_cap = image_captioning(base64_image,prompt)\n",
        "        time.sleep(5)\n",
        "        image_summaries.append(img_cap)\n",
        "\n",
        "print(image_summaries)\n"
      ],
      "metadata": {
        "id": "-REC0NOMT0Tc",
        "colab": {
          "base_uri": "https://localhost:8080/"
        },
        "outputId": "07ac21ed-c0d2-4083-a1c3-9af2b2ae82fe"
      },
      "id": "-REC0NOMT0Tc",
      "execution_count": 11,
      "outputs": [
        {
          "output_type": "stream",
          "name": "stdout",
          "text": [
            "['The image presents a line graph comparing the BSE Sensex and AEL Share Price over a span of several months from April 2022 to March 2023.\\n\\n### Graph Details:\\n\\n- **X-Axis (Months)**: The horizontal axis is labeled \"Months\" and includes the months from April 2022 to March 2023. Each month is evenly spaced along this axis.\\n\\n- **Y-Axis (BSE Sensex)**: The left vertical axis is labeled \"BSE SENSEX,\" with values ranging from 44,000 to 64,000, marked in increments of 2,000.\\n\\n- **Y-Axis (AEL Share Price)**: The right vertical axis is labeled \"AEL Share Price,\" with values ranging from 0 to 4,500, marked in increments of 500.\\n\\n### Data Representation:\\n\\n- **BSE Sensex**:\\n  - Represented by a gray line, it shows a fluctuating trend over the months.\\n  - The line generally trends upwards from April 2022 to a peak around September 2022, after which it shows some decline towards the end of the year, with a notable drop in January 2023 before recovering slightly.\\n\\n- **AEL Share Price**:\\n  - Represented by a purple line, this also shows fluctuations but with a more pronounced peak in December 2022.\\n  - The share price starts lower in April 2022, rises significantly toward December 2022, peaks around that time, and then experiences a sharp decline in January 2023, followed by some recovery in the subsequent months.\\n\\n### Key Points:\\n\\n- Both lines indicate a general trend of increase followed by a decline, with notable peaks and troughs.\\n- The AEL Share Price is significantly lower than the BSE Sensex throughout the timeline, with the highest point being just above 4,000.\\n- The graph visually contrasts the performance of the BSE Sensex against the AEL Share Price, highlighting their respective trends over the specified period.']\n"
          ]
        }
      ]
    },
    {
      "cell_type": "code",
      "source": [
        "def split_image_text_types(docs):\n",
        "    ''' Split base64-encoded images and texts '''\n",
        "    b64 = []\n",
        "    text = []\n",
        "    for doc in docs:\n",
        "        try:\n",
        "            b64decode(doc)\n",
        "            b64.append(doc)\n",
        "        except Exception as e:\n",
        "            text.append(doc)\n",
        "    return {\n",
        "        \"images\": b64,\n",
        "        \"texts\": text\n",
        "    }"
      ],
      "metadata": {
        "id": "NIAwvUsAkpK3"
      },
      "id": "NIAwvUsAkpK3",
      "execution_count": 12,
      "outputs": []
    },
    {
      "cell_type": "code",
      "source": [
        "# Create a vectore base and store text,table,images and their index"
      ],
      "metadata": {
        "id": "ys9zKRCOtw2E"
      },
      "id": "ys9zKRCOtw2E",
      "execution_count": null,
      "outputs": []
    },
    {
      "cell_type": "code",
      "source": [
        "# Add raw docs and doc summaries to Multi Vector Retriever.\n",
        "# The vectorstore to use to index the child chunks\n",
        "vectorstore = Chroma(collection_name=\"multi_modal_rag\",\n",
        "                     embedding_function=OpenAIEmbeddings())\n",
        "\n",
        "# The storage layer for the parent documents\n",
        "store = InMemoryStore()\n",
        "id_key = \"doc_id\"\n",
        "\n",
        "# The retriever (empty to start)\n",
        "retriever = MultiVectorRetriever(\n",
        "    vectorstore=vectorstore,\n",
        "    docstore=store,\n",
        "    id_key=id_key,\n",
        "    cache=False,\n",
        ")\n",
        "\n",
        "# Add texts\n",
        "doc_ids = [str(uuid.uuid4()) for _ in texts]\n",
        "summary_texts = [\n",
        "    Document(page_content=s, metadata={id_key: doc_ids[i]})\n",
        "    for i, s in enumerate(text_summaries)\n",
        "]\n",
        "retriever.vectorstore.add_documents(summary_texts)\n",
        "retriever.docstore.mset(list(zip(doc_ids, texts)))\n",
        "\n",
        "# Add tables\n",
        "table_ids = [str(uuid.uuid4()) for _ in tables]\n",
        "summary_tables = [\n",
        "    Document(page_content=s, metadata={id_key: table_ids[i]})\n",
        "    for i, s in enumerate(table_summaries)\n",
        "]\n",
        "retriever.vectorstore.add_documents(summary_tables)\n",
        "retriever.docstore.mset(list(zip(table_ids, tables)))\n",
        "\n",
        "# Add image summaries\n",
        "img_ids = [str(uuid.uuid4()) for _ in img_base64_list]\n",
        "summary_img = [\n",
        "    Document(page_content=s, metadata={id_key: img_ids[i]})\n",
        "    for i, s in enumerate(image_summaries)\n",
        "]\n",
        "retriever.vectorstore.add_documents(summary_img)\n",
        "retriever.docstore.mset(list(zip(img_ids, img_base64_list)))\n",
        "\n",
        "if summary_img:\n",
        "    retriever.vectorstore.add_documents(summary_img)\n",
        "    retriever.docstore.mset(list(zip(img_ids, img_base64_list)))\n",
        "else:\n",
        "    print(\"No image summaries to add to the vectorstore.\")"
      ],
      "metadata": {
        "id": "Uiq2Z-_zWwqo",
        "colab": {
          "base_uri": "https://localhost:8080/"
        },
        "outputId": "5dfa7a2d-67b0-48cf-cb06-21c5aefd4759"
      },
      "id": "Uiq2Z-_zWwqo",
      "execution_count": 13,
      "outputs": [
        {
          "output_type": "stream",
          "name": "stderr",
          "text": [
            "<ipython-input-13-c1d23303cdc8>:4: LangChainDeprecationWarning: The class `OpenAIEmbeddings` was deprecated in LangChain 0.0.9 and will be removed in 1.0. An updated version of the class exists in the :class:`~langchain-openai package and should be used instead. To use it run `pip install -U :class:`~langchain-openai` and import as `from :class:`~langchain_openai import OpenAIEmbeddings``.\n",
            "  embedding_function=OpenAIEmbeddings())\n",
            "<ipython-input-13-c1d23303cdc8>:3: LangChainDeprecationWarning: The class `Chroma` was deprecated in LangChain 0.2.9 and will be removed in 1.0. An updated version of the class exists in the :class:`~langchain-chroma package and should be used instead. To use it run `pip install -U :class:`~langchain-chroma` and import as `from :class:`~langchain_chroma import Chroma``.\n",
            "  vectorstore = Chroma(collection_name=\"multi_modal_rag\",\n"
          ]
        }
      ]
    },
    {
      "cell_type": "code",
      "source": [
        "# Add raw docs and doc summaries to Multi Vector Retriever.\n",
        "# The vectorstore to use to index the child chunks\n",
        "vectorstore = Chroma(collection_name=\"multi_modal_rag\",\n",
        "                     embedding_function=OpenAIEmbeddings())\n",
        "\n",
        "# The storage layer for the parent documents\n",
        "store = InMemoryStore()\n",
        "id_key = \"doc_id\"\n",
        "\n",
        "# The retriever (empty to start)\n",
        "retriever = MultiVectorRetriever(\n",
        "    vectorstore=vectorstore,\n",
        "    docstore=store,\n",
        "    id_key=id_key,\n",
        "    cache=False,\n",
        ")\n",
        "\n",
        "# Add texts\n",
        "doc_ids = [str(uuid.uuid4()) for _ in texts]\n",
        "summary_texts = [\n",
        "    Document(page_content=s, metadata={id_key: doc_ids[i]})\n",
        "    for i, s in enumerate(text_summaries)\n",
        "]\n",
        "retriever.vectorstore.add_documents(summary_texts)\n",
        "retriever.docstore.mset(list(zip(doc_ids, texts)))\n",
        "\n",
        "# Add tables\n",
        "table_ids = [str(uuid.uuid4()) for _ in tables]\n",
        "summary_tables = [\n",
        "    Document(page_content=s, metadata={id_key: table_ids[i]})\n",
        "    for i, s in enumerate(table_summaries)\n",
        "]\n",
        "retriever.vectorstore.add_documents(summary_tables)\n",
        "retriever.docstore.mset(list(zip(table_ids, tables)))\n",
        "\n",
        "# Add image summaries\n",
        "img_ids = [str(uuid.uuid4()) for _ in img_base64_list]\n",
        "summary_img = [\n",
        "    Document(page_content=s, metadata={id_key: img_ids[i]})\n",
        "    for i, s in enumerate(image_summaries)\n",
        "]\n",
        "retriever.vectorstore.add_documents(summary_img)\n",
        "retriever.docstore.mset(list(zip(img_ids, img_base64_list)))\n",
        "\n",
        "if summary_img:\n",
        "    retriever.vectorstore.add_documents(summary_img)\n",
        "    retriever.docstore.mset(list(zip(img_ids, img_base64_list)))\n",
        "else:\n",
        "    print(\"No image summaries to add to the vectorstore.\")\n",
        "\n",
        "from operator import itemgetter\n",
        "from langchain.schema.runnable import RunnablePassthrough, RunnableLambda\n",
        "\n",
        "def prompt_func(dict,seed=None):\n",
        "    format_texts = \"\\n\".join(dict[\"context\"][\"texts\"])\n",
        "    # Check if images are present before accessing them\n",
        "    if dict[\"context\"][\"images\"]:\n",
        "        image_url = f\"data:image/jpeg;base64,{dict['context']['images'][0]}\"\n",
        "    else:\n",
        "        image_url = None  # Or provide a default image URL if needed\n",
        "    return [\n",
        "        HumanMessage(\n",
        "            content=[\n",
        "                {\"type\": \"text\", \"text\": f\"\"\"Answer the question based only on the following context, which can include text, tables, and the below image:\n",
        "Question: {dict[\"question\"]}\n",
        "\n",
        "Text and tables:\n",
        "{format_texts}\n",
        "\"\"\"},\n",
        " #               {\"type\": \"image_url\", \"image_url\": {\"url\": f\"data:image/jpeg;base64,{dict['context']['images'][0]}\"}},\n",
        " #           ]\n",
        "                 *([{\"type\": \"image_url\", \"image_url\": {\"url\": image_url}}] if image_url else []),\n",
        "            ]\n",
        "        )\n",
        "    ]\n",
        "\n",
        "def create_chain(seed=None):  # Function to create chain with seed\n",
        "    # Set seeds if provided\n",
        "    if seed is not None:\n",
        "        random.seed(seed)\n",
        "        np.random.seed(seed)\n",
        "\n",
        "    model = ChatOpenAI(temperature=0, model=\"gpt-4o-mini\", seed=seed)\n",
        "\n",
        "    # RAG pipeline\n",
        "    chain = (\n",
        "        {\"context\": retriever | RunnableLambda(split_image_text_types), \"question\": RunnablePassthrough()}\n",
        "        | RunnableLambda(lambda x: prompt_func(x, seed=seed))  # Pass seed to prompt_func\n",
        "        | model\n",
        "        | StrOutputParser()\n",
        "    )\n",
        "    return chain\n",
        "\n",
        "# Create chain with a specific seed\n",
        "chain = create_chain(seed=12345)\n",
        "\n",
        "chain.invoke(\n",
        "    \"what is BSE high in April 2022 ?\"\n",
        ")\n"
      ],
      "metadata": {
        "id": "gqQeT4gAKOAz",
        "colab": {
          "base_uri": "https://localhost:8080/",
          "height": 87
        },
        "outputId": "9d039acc-e6f9-4e7f-feac-29beffbfcc49"
      },
      "id": "gqQeT4gAKOAz",
      "execution_count": 14,
      "outputs": [
        {
          "output_type": "stream",
          "name": "stderr",
          "text": [
            "WARNING:langchain_community.chat_models.openai:WARNING! seed is not default parameter.\n",
            "                    seed was transferred to model_kwargs.\n",
            "                    Please confirm that seed is what you intended.\n"
          ]
        },
        {
          "output_type": "execute_result",
          "data": {
            "text/plain": [
              "'The BSE high in April 2022 was 2,420.00.'"
            ],
            "application/vnd.google.colaboratory.intrinsic+json": {
              "type": "string"
            }
          },
          "metadata": {},
          "execution_count": 14
        }
      ]
    },
    {
      "cell_type": "code",
      "source": [
        "chain.invoke(\n",
        "    \"What is BSE sensex in April 2022 include chart?\"\n",
        ")"
      ],
      "metadata": {
        "colab": {
          "base_uri": "https://localhost:8080/",
          "height": 35
        },
        "id": "jwBxFBekLbDy",
        "outputId": "89fb91a2-6eb1-4417-c50f-d9479b0263f8"
      },
      "id": "jwBxFBekLbDy",
      "execution_count": 15,
      "outputs": [
        {
          "output_type": "execute_result",
          "data": {
            "text/plain": [
              "'In April 2022, the BSE Sensex was approximately 58,000. The chart shows the trend of the BSE Sensex and AEL Share Price over the months, with the Sensex represented by a gray line.'"
            ],
            "application/vnd.google.colaboratory.intrinsic+json": {
              "type": "string"
            }
          },
          "metadata": {},
          "execution_count": 15
        }
      ]
    },
    {
      "cell_type": "code",
      "source": [
        "chain.invoke(\n",
        "    \"What is BSE sensex in April 2022 include chart?\"\n",
        ")"
      ],
      "metadata": {
        "id": "4e2-DGCblHWw",
        "colab": {
          "base_uri": "https://localhost:8080/",
          "height": 53
        },
        "outputId": "fa132ac1-b593-4c0f-ece9-054bb2782b9e"
      },
      "id": "4e2-DGCblHWw",
      "execution_count": 16,
      "outputs": [
        {
          "output_type": "execute_result",
          "data": {
            "text/plain": [
              "'In April 2022, the BSE Sensex was approximately 58,000. The chart shows the trend of the BSE Sensex and AEL Share Price over the months, with the Sensex fluctuating around this value during that period.'"
            ],
            "application/vnd.google.colaboratory.intrinsic+json": {
              "type": "string"
            }
          },
          "metadata": {},
          "execution_count": 16
        }
      ]
    },
    {
      "cell_type": "code",
      "source": [
        "chain.invoke(\n",
        "    \"what is mean and average top 2 highest stock prices include chart?\"\n",
        ")"
      ],
      "metadata": {
        "colab": {
          "base_uri": "https://localhost:8080/",
          "height": 70
        },
        "id": "ZKbc_UjP1Ozy",
        "outputId": "0d7e3989-6a79-4d50-b31b-3b6d748e6bed"
      },
      "id": "ZKbc_UjP1Ozy",
      "execution_count": 17,
      "outputs": [
        {
          "output_type": "execute_result",
          "data": {
            "text/plain": [
              "'To find the mean and average of the top 2 highest stock prices from the provided data:\\n\\n1. **Identify the highest stock prices:**\\n   - The highest stock price in December 2022: **4,189.55**\\n   - The second highest stock price in November 2022: **4,098.10**\\n\\n2. **Calculate the mean and average:**\\n   - **Mean = (Highest + Second Highest) / 2**\\n   - Mean = (4,189.55 + 4,098.10) / 2 = 4,143.83\\n\\nThus, the mean of the top 2 highest stock prices is **4,143.83**. \\n\\nThe average is the same as the mean in this context, so the average is also **4,143.83**.'"
            ],
            "application/vnd.google.colaboratory.intrinsic+json": {
              "type": "string"
            }
          },
          "metadata": {},
          "execution_count": 17
        }
      ]
    },
    {
      "cell_type": "code",
      "source": [
        "chain.invoke(\n",
        "    \"what is AEL share price Feb 23 use only data from context ?\"\n",
        ")"
      ],
      "metadata": {
        "colab": {
          "base_uri": "https://localhost:8080/",
          "height": 35
        },
        "id": "Msd4sjIuEsn9",
        "outputId": "338c687c-1987-4134-c012-ab8bc33aab01"
      },
      "id": "Msd4sjIuEsn9",
      "execution_count": null,
      "outputs": [
        {
          "output_type": "execute_result",
          "data": {
            "text/plain": [
              "'The AEL share price for February 2023 is 1,500.00.'"
            ],
            "application/vnd.google.colaboratory.intrinsic+json": {
              "type": "string"
            }
          },
          "metadata": {},
          "execution_count": 19
        }
      ]
    },
    {
      "cell_type": "code",
      "source": [
        "chain.invoke(\n",
        "    \"what is INFOSYS share price Feb 23 use only data from context?\"\n",
        ")"
      ],
      "metadata": {
        "colab": {
          "base_uri": "https://localhost:8080/",
          "height": 53
        },
        "id": "W-bI-4kz14LJ",
        "outputId": "2203f408-0f7c-4df8-8c5b-1abddfc69601"
      },
      "id": "W-bI-4kz14LJ",
      "execution_count": null,
      "outputs": [
        {
          "output_type": "execute_result",
          "data": {
            "text/plain": [
              "'The share price of INFOSYS on February 23, 2023, is not provided in the context. The data available pertains to Adani Enterprises Limited and does not include any information about INFOSYS.'"
            ],
            "application/vnd.google.colaboratory.intrinsic+json": {
              "type": "string"
            }
          },
          "metadata": {},
          "execution_count": 25
        }
      ]
    },
    {
      "cell_type": "code",
      "source": [
        "chain.invoke(\n",
        "    \"what are Registrar and Share Transfer Agents ?\"\n",
        ")"
      ],
      "metadata": {
        "colab": {
          "base_uri": "https://localhost:8080/",
          "height": 140
        },
        "id": "rl8hnhKBAP4r",
        "outputId": "fb36ab35-d409-48b2-c7ed-57224b4612a1"
      },
      "id": "rl8hnhKBAP4r",
      "execution_count": null,
      "outputs": [
        {
          "output_type": "execute_result",
          "data": {
            "text/plain": [
              "'Registrar and Share Transfer Agents (R&T Agents) are entities appointed by a company to manage the administrative tasks related to the transfer of shares and maintenance of shareholder records. In the context provided, M/s. Link Intime India Private Limited is the appointed R&T Agent for the company, handling both physical and dematerialized (demat) shares. Their responsibilities include processing share transfers, managing shareholder queries regarding transfers, dividends, and changes of address, and ensuring compliance with regulatory requirements related to share transfers. They play a crucial role in facilitating smooth transactions and communication between the company and its shareholders.'"
            ],
            "application/vnd.google.colaboratory.intrinsic+json": {
              "type": "string"
            }
          },
          "metadata": {},
          "execution_count": 21
        }
      ]
    },
    {
      "cell_type": "code",
      "source": [
        "chain.invoke(\n",
        "    \"Extract details of March 2023 ?\"\n",
        ")"
      ],
      "metadata": {
        "id": "wHe4gJm6Blzt"
      },
      "id": "wHe4gJm6Blzt",
      "execution_count": null,
      "outputs": []
    },
    {
      "cell_type": "code",
      "source": [
        "chain.invoke(\n",
        "    \"Extract details of March 2023 use image ?\"\n",
        ")"
      ],
      "metadata": {
        "id": "EHoQhlM8B9ih"
      },
      "id": "EHoQhlM8B9ih",
      "execution_count": null,
      "outputs": []
    }
  ],
  "metadata": {
    "kernelspec": {
      "display_name": "Python 3 (ipykernel)",
      "language": "python",
      "name": "python3"
    },
    "language_info": {
      "codemirror_mode": {
        "name": "ipython",
        "version": 3
      },
      "file_extension": ".py",
      "mimetype": "text/x-python",
      "name": "python",
      "nbconvert_exporter": "python",
      "pygments_lexer": "ipython3",
      "version": "3.9.16"
    },
    "colab": {
      "provenance": []
    },
    "widgets": {
      "application/vnd.jupyter.widget-state+json": {
        "f6e2154aa6804f0db5d32ed773ebbb9b": {
          "model_module": "@jupyter-widgets/controls",
          "model_name": "HBoxModel",
          "model_module_version": "1.5.0",
          "state": {
            "_dom_classes": [],
            "_model_module": "@jupyter-widgets/controls",
            "_model_module_version": "1.5.0",
            "_model_name": "HBoxModel",
            "_view_count": null,
            "_view_module": "@jupyter-widgets/controls",
            "_view_module_version": "1.5.0",
            "_view_name": "HBoxView",
            "box_style": "",
            "children": [
              "IPY_MODEL_de11ae1a06864d08891092458fd5cae7",
              "IPY_MODEL_ebe392379a614ddda740b50c5f6a2fa9",
              "IPY_MODEL_35415ff847c44178a2840698b10242fd"
            ],
            "layout": "IPY_MODEL_f79bb2aa30104687aa494f89afc64bdf"
          }
        },
        "de11ae1a06864d08891092458fd5cae7": {
          "model_module": "@jupyter-widgets/controls",
          "model_name": "HTMLModel",
          "model_module_version": "1.5.0",
          "state": {
            "_dom_classes": [],
            "_model_module": "@jupyter-widgets/controls",
            "_model_module_version": "1.5.0",
            "_model_name": "HTMLModel",
            "_view_count": null,
            "_view_module": "@jupyter-widgets/controls",
            "_view_module_version": "1.5.0",
            "_view_name": "HTMLView",
            "description": "",
            "description_tooltip": null,
            "layout": "IPY_MODEL_620543d23f67496da679431e9bf2c6ba",
            "placeholder": "​",
            "style": "IPY_MODEL_3d9418f2195c4ab8ba85b232bbcb503b",
            "value": "yolox_l0.05.onnx: 100%"
          }
        },
        "ebe392379a614ddda740b50c5f6a2fa9": {
          "model_module": "@jupyter-widgets/controls",
          "model_name": "FloatProgressModel",
          "model_module_version": "1.5.0",
          "state": {
            "_dom_classes": [],
            "_model_module": "@jupyter-widgets/controls",
            "_model_module_version": "1.5.0",
            "_model_name": "FloatProgressModel",
            "_view_count": null,
            "_view_module": "@jupyter-widgets/controls",
            "_view_module_version": "1.5.0",
            "_view_name": "ProgressView",
            "bar_style": "success",
            "description": "",
            "description_tooltip": null,
            "layout": "IPY_MODEL_a04574e484294f3aa815e53e388cd8b2",
            "max": 216625723,
            "min": 0,
            "orientation": "horizontal",
            "style": "IPY_MODEL_ee07612dfb9a4a26a74eaa74ab743079",
            "value": 216625723
          }
        },
        "35415ff847c44178a2840698b10242fd": {
          "model_module": "@jupyter-widgets/controls",
          "model_name": "HTMLModel",
          "model_module_version": "1.5.0",
          "state": {
            "_dom_classes": [],
            "_model_module": "@jupyter-widgets/controls",
            "_model_module_version": "1.5.0",
            "_model_name": "HTMLModel",
            "_view_count": null,
            "_view_module": "@jupyter-widgets/controls",
            "_view_module_version": "1.5.0",
            "_view_name": "HTMLView",
            "description": "",
            "description_tooltip": null,
            "layout": "IPY_MODEL_d850083fd8f74d44b37b79a3aa3a0054",
            "placeholder": "​",
            "style": "IPY_MODEL_91a912cd9ce64c60b6b9d5ad17fe4c21",
            "value": " 217M/217M [00:01&lt;00:00, 159MB/s]"
          }
        },
        "f79bb2aa30104687aa494f89afc64bdf": {
          "model_module": "@jupyter-widgets/base",
          "model_name": "LayoutModel",
          "model_module_version": "1.2.0",
          "state": {
            "_model_module": "@jupyter-widgets/base",
            "_model_module_version": "1.2.0",
            "_model_name": "LayoutModel",
            "_view_count": null,
            "_view_module": "@jupyter-widgets/base",
            "_view_module_version": "1.2.0",
            "_view_name": "LayoutView",
            "align_content": null,
            "align_items": null,
            "align_self": null,
            "border": null,
            "bottom": null,
            "display": null,
            "flex": null,
            "flex_flow": null,
            "grid_area": null,
            "grid_auto_columns": null,
            "grid_auto_flow": null,
            "grid_auto_rows": null,
            "grid_column": null,
            "grid_gap": null,
            "grid_row": null,
            "grid_template_areas": null,
            "grid_template_columns": null,
            "grid_template_rows": null,
            "height": null,
            "justify_content": null,
            "justify_items": null,
            "left": null,
            "margin": null,
            "max_height": null,
            "max_width": null,
            "min_height": null,
            "min_width": null,
            "object_fit": null,
            "object_position": null,
            "order": null,
            "overflow": null,
            "overflow_x": null,
            "overflow_y": null,
            "padding": null,
            "right": null,
            "top": null,
            "visibility": null,
            "width": null
          }
        },
        "620543d23f67496da679431e9bf2c6ba": {
          "model_module": "@jupyter-widgets/base",
          "model_name": "LayoutModel",
          "model_module_version": "1.2.0",
          "state": {
            "_model_module": "@jupyter-widgets/base",
            "_model_module_version": "1.2.0",
            "_model_name": "LayoutModel",
            "_view_count": null,
            "_view_module": "@jupyter-widgets/base",
            "_view_module_version": "1.2.0",
            "_view_name": "LayoutView",
            "align_content": null,
            "align_items": null,
            "align_self": null,
            "border": null,
            "bottom": null,
            "display": null,
            "flex": null,
            "flex_flow": null,
            "grid_area": null,
            "grid_auto_columns": null,
            "grid_auto_flow": null,
            "grid_auto_rows": null,
            "grid_column": null,
            "grid_gap": null,
            "grid_row": null,
            "grid_template_areas": null,
            "grid_template_columns": null,
            "grid_template_rows": null,
            "height": null,
            "justify_content": null,
            "justify_items": null,
            "left": null,
            "margin": null,
            "max_height": null,
            "max_width": null,
            "min_height": null,
            "min_width": null,
            "object_fit": null,
            "object_position": null,
            "order": null,
            "overflow": null,
            "overflow_x": null,
            "overflow_y": null,
            "padding": null,
            "right": null,
            "top": null,
            "visibility": null,
            "width": null
          }
        },
        "3d9418f2195c4ab8ba85b232bbcb503b": {
          "model_module": "@jupyter-widgets/controls",
          "model_name": "DescriptionStyleModel",
          "model_module_version": "1.5.0",
          "state": {
            "_model_module": "@jupyter-widgets/controls",
            "_model_module_version": "1.5.0",
            "_model_name": "DescriptionStyleModel",
            "_view_count": null,
            "_view_module": "@jupyter-widgets/base",
            "_view_module_version": "1.2.0",
            "_view_name": "StyleView",
            "description_width": ""
          }
        },
        "a04574e484294f3aa815e53e388cd8b2": {
          "model_module": "@jupyter-widgets/base",
          "model_name": "LayoutModel",
          "model_module_version": "1.2.0",
          "state": {
            "_model_module": "@jupyter-widgets/base",
            "_model_module_version": "1.2.0",
            "_model_name": "LayoutModel",
            "_view_count": null,
            "_view_module": "@jupyter-widgets/base",
            "_view_module_version": "1.2.0",
            "_view_name": "LayoutView",
            "align_content": null,
            "align_items": null,
            "align_self": null,
            "border": null,
            "bottom": null,
            "display": null,
            "flex": null,
            "flex_flow": null,
            "grid_area": null,
            "grid_auto_columns": null,
            "grid_auto_flow": null,
            "grid_auto_rows": null,
            "grid_column": null,
            "grid_gap": null,
            "grid_row": null,
            "grid_template_areas": null,
            "grid_template_columns": null,
            "grid_template_rows": null,
            "height": null,
            "justify_content": null,
            "justify_items": null,
            "left": null,
            "margin": null,
            "max_height": null,
            "max_width": null,
            "min_height": null,
            "min_width": null,
            "object_fit": null,
            "object_position": null,
            "order": null,
            "overflow": null,
            "overflow_x": null,
            "overflow_y": null,
            "padding": null,
            "right": null,
            "top": null,
            "visibility": null,
            "width": null
          }
        },
        "ee07612dfb9a4a26a74eaa74ab743079": {
          "model_module": "@jupyter-widgets/controls",
          "model_name": "ProgressStyleModel",
          "model_module_version": "1.5.0",
          "state": {
            "_model_module": "@jupyter-widgets/controls",
            "_model_module_version": "1.5.0",
            "_model_name": "ProgressStyleModel",
            "_view_count": null,
            "_view_module": "@jupyter-widgets/base",
            "_view_module_version": "1.2.0",
            "_view_name": "StyleView",
            "bar_color": null,
            "description_width": ""
          }
        },
        "d850083fd8f74d44b37b79a3aa3a0054": {
          "model_module": "@jupyter-widgets/base",
          "model_name": "LayoutModel",
          "model_module_version": "1.2.0",
          "state": {
            "_model_module": "@jupyter-widgets/base",
            "_model_module_version": "1.2.0",
            "_model_name": "LayoutModel",
            "_view_count": null,
            "_view_module": "@jupyter-widgets/base",
            "_view_module_version": "1.2.0",
            "_view_name": "LayoutView",
            "align_content": null,
            "align_items": null,
            "align_self": null,
            "border": null,
            "bottom": null,
            "display": null,
            "flex": null,
            "flex_flow": null,
            "grid_area": null,
            "grid_auto_columns": null,
            "grid_auto_flow": null,
            "grid_auto_rows": null,
            "grid_column": null,
            "grid_gap": null,
            "grid_row": null,
            "grid_template_areas": null,
            "grid_template_columns": null,
            "grid_template_rows": null,
            "height": null,
            "justify_content": null,
            "justify_items": null,
            "left": null,
            "margin": null,
            "max_height": null,
            "max_width": null,
            "min_height": null,
            "min_width": null,
            "object_fit": null,
            "object_position": null,
            "order": null,
            "overflow": null,
            "overflow_x": null,
            "overflow_y": null,
            "padding": null,
            "right": null,
            "top": null,
            "visibility": null,
            "width": null
          }
        },
        "91a912cd9ce64c60b6b9d5ad17fe4c21": {
          "model_module": "@jupyter-widgets/controls",
          "model_name": "DescriptionStyleModel",
          "model_module_version": "1.5.0",
          "state": {
            "_model_module": "@jupyter-widgets/controls",
            "_model_module_version": "1.5.0",
            "_model_name": "DescriptionStyleModel",
            "_view_count": null,
            "_view_module": "@jupyter-widgets/base",
            "_view_module_version": "1.2.0",
            "_view_name": "StyleView",
            "description_width": ""
          }
        },
        "86c427473c13422b9e1eeac2426eb93e": {
          "model_module": "@jupyter-widgets/controls",
          "model_name": "HBoxModel",
          "model_module_version": "1.5.0",
          "state": {
            "_dom_classes": [],
            "_model_module": "@jupyter-widgets/controls",
            "_model_module_version": "1.5.0",
            "_model_name": "HBoxModel",
            "_view_count": null,
            "_view_module": "@jupyter-widgets/controls",
            "_view_module_version": "1.5.0",
            "_view_name": "HBoxView",
            "box_style": "",
            "children": [
              "IPY_MODEL_16ad25eeaa9e4c9a9f6e717515b9b75c",
              "IPY_MODEL_f21b6442cfd143a3a4463088ccb4f6f6",
              "IPY_MODEL_ff1b6ce48c9f42d8a049208f5c8c4907"
            ],
            "layout": "IPY_MODEL_9eb078d59a734f8aa28a53bf37924ecb"
          }
        },
        "16ad25eeaa9e4c9a9f6e717515b9b75c": {
          "model_module": "@jupyter-widgets/controls",
          "model_name": "HTMLModel",
          "model_module_version": "1.5.0",
          "state": {
            "_dom_classes": [],
            "_model_module": "@jupyter-widgets/controls",
            "_model_module_version": "1.5.0",
            "_model_name": "HTMLModel",
            "_view_count": null,
            "_view_module": "@jupyter-widgets/controls",
            "_view_module_version": "1.5.0",
            "_view_name": "HTMLView",
            "description": "",
            "description_tooltip": null,
            "layout": "IPY_MODEL_b67b988fc2ae4b5db8905f7463eaf416",
            "placeholder": "​",
            "style": "IPY_MODEL_a76bbd2f70fe47bf8f884793c84cd01b",
            "value": ""
          }
        },
        "f21b6442cfd143a3a4463088ccb4f6f6": {
          "model_module": "@jupyter-widgets/controls",
          "model_name": "FloatProgressModel",
          "model_module_version": "1.5.0",
          "state": {
            "_dom_classes": [],
            "_model_module": "@jupyter-widgets/controls",
            "_model_module_version": "1.5.0",
            "_model_name": "FloatProgressModel",
            "_view_count": null,
            "_view_module": "@jupyter-widgets/controls",
            "_view_module_version": "1.5.0",
            "_view_name": "ProgressView",
            "bar_style": "success",
            "description": "",
            "description_tooltip": null,
            "layout": "IPY_MODEL_00191560659d4557a1dea54c3545af71",
            "max": 1,
            "min": 0,
            "orientation": "horizontal",
            "style": "IPY_MODEL_05f9bd6e0d18416f8a915cdfc485efa8",
            "value": 0
          }
        },
        "ff1b6ce48c9f42d8a049208f5c8c4907": {
          "model_module": "@jupyter-widgets/controls",
          "model_name": "HTMLModel",
          "model_module_version": "1.5.0",
          "state": {
            "_dom_classes": [],
            "_model_module": "@jupyter-widgets/controls",
            "_model_module_version": "1.5.0",
            "_model_name": "HTMLModel",
            "_view_count": null,
            "_view_module": "@jupyter-widgets/controls",
            "_view_module_version": "1.5.0",
            "_view_name": "HTMLView",
            "description": "",
            "description_tooltip": null,
            "layout": "IPY_MODEL_4be1ec62eedc4b9d95a74f54abca14ef",
            "placeholder": "​",
            "style": "IPY_MODEL_6cc74832e55d4173b8f8abf568ab0a96",
            "value": " 0/0 [00:00&lt;?, ?it/s]"
          }
        },
        "9eb078d59a734f8aa28a53bf37924ecb": {
          "model_module": "@jupyter-widgets/base",
          "model_name": "LayoutModel",
          "model_module_version": "1.2.0",
          "state": {
            "_model_module": "@jupyter-widgets/base",
            "_model_module_version": "1.2.0",
            "_model_name": "LayoutModel",
            "_view_count": null,
            "_view_module": "@jupyter-widgets/base",
            "_view_module_version": "1.2.0",
            "_view_name": "LayoutView",
            "align_content": null,
            "align_items": null,
            "align_self": null,
            "border": null,
            "bottom": null,
            "display": null,
            "flex": null,
            "flex_flow": null,
            "grid_area": null,
            "grid_auto_columns": null,
            "grid_auto_flow": null,
            "grid_auto_rows": null,
            "grid_column": null,
            "grid_gap": null,
            "grid_row": null,
            "grid_template_areas": null,
            "grid_template_columns": null,
            "grid_template_rows": null,
            "height": null,
            "justify_content": null,
            "justify_items": null,
            "left": null,
            "margin": null,
            "max_height": null,
            "max_width": null,
            "min_height": null,
            "min_width": null,
            "object_fit": null,
            "object_position": null,
            "order": null,
            "overflow": null,
            "overflow_x": null,
            "overflow_y": null,
            "padding": null,
            "right": null,
            "top": null,
            "visibility": null,
            "width": null
          }
        },
        "b67b988fc2ae4b5db8905f7463eaf416": {
          "model_module": "@jupyter-widgets/base",
          "model_name": "LayoutModel",
          "model_module_version": "1.2.0",
          "state": {
            "_model_module": "@jupyter-widgets/base",
            "_model_module_version": "1.2.0",
            "_model_name": "LayoutModel",
            "_view_count": null,
            "_view_module": "@jupyter-widgets/base",
            "_view_module_version": "1.2.0",
            "_view_name": "LayoutView",
            "align_content": null,
            "align_items": null,
            "align_self": null,
            "border": null,
            "bottom": null,
            "display": null,
            "flex": null,
            "flex_flow": null,
            "grid_area": null,
            "grid_auto_columns": null,
            "grid_auto_flow": null,
            "grid_auto_rows": null,
            "grid_column": null,
            "grid_gap": null,
            "grid_row": null,
            "grid_template_areas": null,
            "grid_template_columns": null,
            "grid_template_rows": null,
            "height": null,
            "justify_content": null,
            "justify_items": null,
            "left": null,
            "margin": null,
            "max_height": null,
            "max_width": null,
            "min_height": null,
            "min_width": null,
            "object_fit": null,
            "object_position": null,
            "order": null,
            "overflow": null,
            "overflow_x": null,
            "overflow_y": null,
            "padding": null,
            "right": null,
            "top": null,
            "visibility": null,
            "width": null
          }
        },
        "a76bbd2f70fe47bf8f884793c84cd01b": {
          "model_module": "@jupyter-widgets/controls",
          "model_name": "DescriptionStyleModel",
          "model_module_version": "1.5.0",
          "state": {
            "_model_module": "@jupyter-widgets/controls",
            "_model_module_version": "1.5.0",
            "_model_name": "DescriptionStyleModel",
            "_view_count": null,
            "_view_module": "@jupyter-widgets/base",
            "_view_module_version": "1.2.0",
            "_view_name": "StyleView",
            "description_width": ""
          }
        },
        "00191560659d4557a1dea54c3545af71": {
          "model_module": "@jupyter-widgets/base",
          "model_name": "LayoutModel",
          "model_module_version": "1.2.0",
          "state": {
            "_model_module": "@jupyter-widgets/base",
            "_model_module_version": "1.2.0",
            "_model_name": "LayoutModel",
            "_view_count": null,
            "_view_module": "@jupyter-widgets/base",
            "_view_module_version": "1.2.0",
            "_view_name": "LayoutView",
            "align_content": null,
            "align_items": null,
            "align_self": null,
            "border": null,
            "bottom": null,
            "display": null,
            "flex": null,
            "flex_flow": null,
            "grid_area": null,
            "grid_auto_columns": null,
            "grid_auto_flow": null,
            "grid_auto_rows": null,
            "grid_column": null,
            "grid_gap": null,
            "grid_row": null,
            "grid_template_areas": null,
            "grid_template_columns": null,
            "grid_template_rows": null,
            "height": null,
            "justify_content": null,
            "justify_items": null,
            "left": null,
            "margin": null,
            "max_height": null,
            "max_width": null,
            "min_height": null,
            "min_width": null,
            "object_fit": null,
            "object_position": null,
            "order": null,
            "overflow": null,
            "overflow_x": null,
            "overflow_y": null,
            "padding": null,
            "right": null,
            "top": null,
            "visibility": null,
            "width": "20px"
          }
        },
        "05f9bd6e0d18416f8a915cdfc485efa8": {
          "model_module": "@jupyter-widgets/controls",
          "model_name": "ProgressStyleModel",
          "model_module_version": "1.5.0",
          "state": {
            "_model_module": "@jupyter-widgets/controls",
            "_model_module_version": "1.5.0",
            "_model_name": "ProgressStyleModel",
            "_view_count": null,
            "_view_module": "@jupyter-widgets/base",
            "_view_module_version": "1.2.0",
            "_view_name": "StyleView",
            "bar_color": null,
            "description_width": ""
          }
        },
        "4be1ec62eedc4b9d95a74f54abca14ef": {
          "model_module": "@jupyter-widgets/base",
          "model_name": "LayoutModel",
          "model_module_version": "1.2.0",
          "state": {
            "_model_module": "@jupyter-widgets/base",
            "_model_module_version": "1.2.0",
            "_model_name": "LayoutModel",
            "_view_count": null,
            "_view_module": "@jupyter-widgets/base",
            "_view_module_version": "1.2.0",
            "_view_name": "LayoutView",
            "align_content": null,
            "align_items": null,
            "align_self": null,
            "border": null,
            "bottom": null,
            "display": null,
            "flex": null,
            "flex_flow": null,
            "grid_area": null,
            "grid_auto_columns": null,
            "grid_auto_flow": null,
            "grid_auto_rows": null,
            "grid_column": null,
            "grid_gap": null,
            "grid_row": null,
            "grid_template_areas": null,
            "grid_template_columns": null,
            "grid_template_rows": null,
            "height": null,
            "justify_content": null,
            "justify_items": null,
            "left": null,
            "margin": null,
            "max_height": null,
            "max_width": null,
            "min_height": null,
            "min_width": null,
            "object_fit": null,
            "object_position": null,
            "order": null,
            "overflow": null,
            "overflow_x": null,
            "overflow_y": null,
            "padding": null,
            "right": null,
            "top": null,
            "visibility": null,
            "width": null
          }
        },
        "6cc74832e55d4173b8f8abf568ab0a96": {
          "model_module": "@jupyter-widgets/controls",
          "model_name": "DescriptionStyleModel",
          "model_module_version": "1.5.0",
          "state": {
            "_model_module": "@jupyter-widgets/controls",
            "_model_module_version": "1.5.0",
            "_model_name": "DescriptionStyleModel",
            "_view_count": null,
            "_view_module": "@jupyter-widgets/base",
            "_view_module_version": "1.2.0",
            "_view_name": "StyleView",
            "description_width": ""
          }
        },
        "18c43c5824a64a53b340e90e4657e020": {
          "model_module": "@jupyter-widgets/controls",
          "model_name": "HBoxModel",
          "model_module_version": "1.5.0",
          "state": {
            "_dom_classes": [],
            "_model_module": "@jupyter-widgets/controls",
            "_model_module_version": "1.5.0",
            "_model_name": "HBoxModel",
            "_view_count": null,
            "_view_module": "@jupyter-widgets/controls",
            "_view_module_version": "1.5.0",
            "_view_name": "HBoxView",
            "box_style": "",
            "children": [
              "IPY_MODEL_35bf2bea790c47ceb5e324370e115b44",
              "IPY_MODEL_928a584d3a8e421694e327a7a917e09c",
              "IPY_MODEL_9fd49665ed294bbea417315f5a5f615b"
            ],
            "layout": "IPY_MODEL_d1e7142b29e144a4ad874cfd632161fa"
          }
        },
        "35bf2bea790c47ceb5e324370e115b44": {
          "model_module": "@jupyter-widgets/controls",
          "model_name": "HTMLModel",
          "model_module_version": "1.5.0",
          "state": {
            "_dom_classes": [],
            "_model_module": "@jupyter-widgets/controls",
            "_model_module_version": "1.5.0",
            "_model_name": "HTMLModel",
            "_view_count": null,
            "_view_module": "@jupyter-widgets/controls",
            "_view_module_version": "1.5.0",
            "_view_name": "HTMLView",
            "description": "",
            "description_tooltip": null,
            "layout": "IPY_MODEL_b40912b400b640fa99e155a0433528d3",
            "placeholder": "​",
            "style": "IPY_MODEL_cd1b76f188f547999fd57089556ad687",
            "value": "config.json: 100%"
          }
        },
        "928a584d3a8e421694e327a7a917e09c": {
          "model_module": "@jupyter-widgets/controls",
          "model_name": "FloatProgressModel",
          "model_module_version": "1.5.0",
          "state": {
            "_dom_classes": [],
            "_model_module": "@jupyter-widgets/controls",
            "_model_module_version": "1.5.0",
            "_model_name": "FloatProgressModel",
            "_view_count": null,
            "_view_module": "@jupyter-widgets/controls",
            "_view_module_version": "1.5.0",
            "_view_name": "ProgressView",
            "bar_style": "success",
            "description": "",
            "description_tooltip": null,
            "layout": "IPY_MODEL_ef325a87023c4b25a1c7c42d5aa989e5",
            "max": 1469,
            "min": 0,
            "orientation": "horizontal",
            "style": "IPY_MODEL_785990ce442c4708a120aec1a465fc06",
            "value": 1469
          }
        },
        "9fd49665ed294bbea417315f5a5f615b": {
          "model_module": "@jupyter-widgets/controls",
          "model_name": "HTMLModel",
          "model_module_version": "1.5.0",
          "state": {
            "_dom_classes": [],
            "_model_module": "@jupyter-widgets/controls",
            "_model_module_version": "1.5.0",
            "_model_name": "HTMLModel",
            "_view_count": null,
            "_view_module": "@jupyter-widgets/controls",
            "_view_module_version": "1.5.0",
            "_view_name": "HTMLView",
            "description": "",
            "description_tooltip": null,
            "layout": "IPY_MODEL_571b623d2e1f4fe0876a9b0964140813",
            "placeholder": "​",
            "style": "IPY_MODEL_5f2037cbf8864557b23802f285f03a1a",
            "value": " 1.47k/1.47k [00:00&lt;00:00, 87.0kB/s]"
          }
        },
        "d1e7142b29e144a4ad874cfd632161fa": {
          "model_module": "@jupyter-widgets/base",
          "model_name": "LayoutModel",
          "model_module_version": "1.2.0",
          "state": {
            "_model_module": "@jupyter-widgets/base",
            "_model_module_version": "1.2.0",
            "_model_name": "LayoutModel",
            "_view_count": null,
            "_view_module": "@jupyter-widgets/base",
            "_view_module_version": "1.2.0",
            "_view_name": "LayoutView",
            "align_content": null,
            "align_items": null,
            "align_self": null,
            "border": null,
            "bottom": null,
            "display": null,
            "flex": null,
            "flex_flow": null,
            "grid_area": null,
            "grid_auto_columns": null,
            "grid_auto_flow": null,
            "grid_auto_rows": null,
            "grid_column": null,
            "grid_gap": null,
            "grid_row": null,
            "grid_template_areas": null,
            "grid_template_columns": null,
            "grid_template_rows": null,
            "height": null,
            "justify_content": null,
            "justify_items": null,
            "left": null,
            "margin": null,
            "max_height": null,
            "max_width": null,
            "min_height": null,
            "min_width": null,
            "object_fit": null,
            "object_position": null,
            "order": null,
            "overflow": null,
            "overflow_x": null,
            "overflow_y": null,
            "padding": null,
            "right": null,
            "top": null,
            "visibility": null,
            "width": null
          }
        },
        "b40912b400b640fa99e155a0433528d3": {
          "model_module": "@jupyter-widgets/base",
          "model_name": "LayoutModel",
          "model_module_version": "1.2.0",
          "state": {
            "_model_module": "@jupyter-widgets/base",
            "_model_module_version": "1.2.0",
            "_model_name": "LayoutModel",
            "_view_count": null,
            "_view_module": "@jupyter-widgets/base",
            "_view_module_version": "1.2.0",
            "_view_name": "LayoutView",
            "align_content": null,
            "align_items": null,
            "align_self": null,
            "border": null,
            "bottom": null,
            "display": null,
            "flex": null,
            "flex_flow": null,
            "grid_area": null,
            "grid_auto_columns": null,
            "grid_auto_flow": null,
            "grid_auto_rows": null,
            "grid_column": null,
            "grid_gap": null,
            "grid_row": null,
            "grid_template_areas": null,
            "grid_template_columns": null,
            "grid_template_rows": null,
            "height": null,
            "justify_content": null,
            "justify_items": null,
            "left": null,
            "margin": null,
            "max_height": null,
            "max_width": null,
            "min_height": null,
            "min_width": null,
            "object_fit": null,
            "object_position": null,
            "order": null,
            "overflow": null,
            "overflow_x": null,
            "overflow_y": null,
            "padding": null,
            "right": null,
            "top": null,
            "visibility": null,
            "width": null
          }
        },
        "cd1b76f188f547999fd57089556ad687": {
          "model_module": "@jupyter-widgets/controls",
          "model_name": "DescriptionStyleModel",
          "model_module_version": "1.5.0",
          "state": {
            "_model_module": "@jupyter-widgets/controls",
            "_model_module_version": "1.5.0",
            "_model_name": "DescriptionStyleModel",
            "_view_count": null,
            "_view_module": "@jupyter-widgets/base",
            "_view_module_version": "1.2.0",
            "_view_name": "StyleView",
            "description_width": ""
          }
        },
        "ef325a87023c4b25a1c7c42d5aa989e5": {
          "model_module": "@jupyter-widgets/base",
          "model_name": "LayoutModel",
          "model_module_version": "1.2.0",
          "state": {
            "_model_module": "@jupyter-widgets/base",
            "_model_module_version": "1.2.0",
            "_model_name": "LayoutModel",
            "_view_count": null,
            "_view_module": "@jupyter-widgets/base",
            "_view_module_version": "1.2.0",
            "_view_name": "LayoutView",
            "align_content": null,
            "align_items": null,
            "align_self": null,
            "border": null,
            "bottom": null,
            "display": null,
            "flex": null,
            "flex_flow": null,
            "grid_area": null,
            "grid_auto_columns": null,
            "grid_auto_flow": null,
            "grid_auto_rows": null,
            "grid_column": null,
            "grid_gap": null,
            "grid_row": null,
            "grid_template_areas": null,
            "grid_template_columns": null,
            "grid_template_rows": null,
            "height": null,
            "justify_content": null,
            "justify_items": null,
            "left": null,
            "margin": null,
            "max_height": null,
            "max_width": null,
            "min_height": null,
            "min_width": null,
            "object_fit": null,
            "object_position": null,
            "order": null,
            "overflow": null,
            "overflow_x": null,
            "overflow_y": null,
            "padding": null,
            "right": null,
            "top": null,
            "visibility": null,
            "width": null
          }
        },
        "785990ce442c4708a120aec1a465fc06": {
          "model_module": "@jupyter-widgets/controls",
          "model_name": "ProgressStyleModel",
          "model_module_version": "1.5.0",
          "state": {
            "_model_module": "@jupyter-widgets/controls",
            "_model_module_version": "1.5.0",
            "_model_name": "ProgressStyleModel",
            "_view_count": null,
            "_view_module": "@jupyter-widgets/base",
            "_view_module_version": "1.2.0",
            "_view_name": "StyleView",
            "bar_color": null,
            "description_width": ""
          }
        },
        "571b623d2e1f4fe0876a9b0964140813": {
          "model_module": "@jupyter-widgets/base",
          "model_name": "LayoutModel",
          "model_module_version": "1.2.0",
          "state": {
            "_model_module": "@jupyter-widgets/base",
            "_model_module_version": "1.2.0",
            "_model_name": "LayoutModel",
            "_view_count": null,
            "_view_module": "@jupyter-widgets/base",
            "_view_module_version": "1.2.0",
            "_view_name": "LayoutView",
            "align_content": null,
            "align_items": null,
            "align_self": null,
            "border": null,
            "bottom": null,
            "display": null,
            "flex": null,
            "flex_flow": null,
            "grid_area": null,
            "grid_auto_columns": null,
            "grid_auto_flow": null,
            "grid_auto_rows": null,
            "grid_column": null,
            "grid_gap": null,
            "grid_row": null,
            "grid_template_areas": null,
            "grid_template_columns": null,
            "grid_template_rows": null,
            "height": null,
            "justify_content": null,
            "justify_items": null,
            "left": null,
            "margin": null,
            "max_height": null,
            "max_width": null,
            "min_height": null,
            "min_width": null,
            "object_fit": null,
            "object_position": null,
            "order": null,
            "overflow": null,
            "overflow_x": null,
            "overflow_y": null,
            "padding": null,
            "right": null,
            "top": null,
            "visibility": null,
            "width": null
          }
        },
        "5f2037cbf8864557b23802f285f03a1a": {
          "model_module": "@jupyter-widgets/controls",
          "model_name": "DescriptionStyleModel",
          "model_module_version": "1.5.0",
          "state": {
            "_model_module": "@jupyter-widgets/controls",
            "_model_module_version": "1.5.0",
            "_model_name": "DescriptionStyleModel",
            "_view_count": null,
            "_view_module": "@jupyter-widgets/base",
            "_view_module_version": "1.2.0",
            "_view_name": "StyleView",
            "description_width": ""
          }
        },
        "777364fd55c243758c4caa98a91612cf": {
          "model_module": "@jupyter-widgets/controls",
          "model_name": "HBoxModel",
          "model_module_version": "1.5.0",
          "state": {
            "_dom_classes": [],
            "_model_module": "@jupyter-widgets/controls",
            "_model_module_version": "1.5.0",
            "_model_name": "HBoxModel",
            "_view_count": null,
            "_view_module": "@jupyter-widgets/controls",
            "_view_module_version": "1.5.0",
            "_view_name": "HBoxView",
            "box_style": "",
            "children": [
              "IPY_MODEL_48b6a3f56e524ce1b3513bc081eafe34",
              "IPY_MODEL_f9131c74800e4e128654b658751b2cb0",
              "IPY_MODEL_77a2ddc3819846bd932429f42c5ddccd"
            ],
            "layout": "IPY_MODEL_189b7c54eafc4c37a6f34230b6016a28"
          }
        },
        "48b6a3f56e524ce1b3513bc081eafe34": {
          "model_module": "@jupyter-widgets/controls",
          "model_name": "HTMLModel",
          "model_module_version": "1.5.0",
          "state": {
            "_dom_classes": [],
            "_model_module": "@jupyter-widgets/controls",
            "_model_module_version": "1.5.0",
            "_model_name": "HTMLModel",
            "_view_count": null,
            "_view_module": "@jupyter-widgets/controls",
            "_view_module_version": "1.5.0",
            "_view_name": "HTMLView",
            "description": "",
            "description_tooltip": null,
            "layout": "IPY_MODEL_fdcd917acaa24c45bf36c22588e27f58",
            "placeholder": "​",
            "style": "IPY_MODEL_8fee5cd965d74e069b446de0d3d5330b",
            "value": "model.safetensors: 100%"
          }
        },
        "f9131c74800e4e128654b658751b2cb0": {
          "model_module": "@jupyter-widgets/controls",
          "model_name": "FloatProgressModel",
          "model_module_version": "1.5.0",
          "state": {
            "_dom_classes": [],
            "_model_module": "@jupyter-widgets/controls",
            "_model_module_version": "1.5.0",
            "_model_name": "FloatProgressModel",
            "_view_count": null,
            "_view_module": "@jupyter-widgets/controls",
            "_view_module_version": "1.5.0",
            "_view_name": "ProgressView",
            "bar_style": "success",
            "description": "",
            "description_tooltip": null,
            "layout": "IPY_MODEL_87309e2c3f53402b8fc2d67fa53bc6c7",
            "max": 115434268,
            "min": 0,
            "orientation": "horizontal",
            "style": "IPY_MODEL_0156cddb828241ec819ff1b5faa1fc65",
            "value": 115434268
          }
        },
        "77a2ddc3819846bd932429f42c5ddccd": {
          "model_module": "@jupyter-widgets/controls",
          "model_name": "HTMLModel",
          "model_module_version": "1.5.0",
          "state": {
            "_dom_classes": [],
            "_model_module": "@jupyter-widgets/controls",
            "_model_module_version": "1.5.0",
            "_model_name": "HTMLModel",
            "_view_count": null,
            "_view_module": "@jupyter-widgets/controls",
            "_view_module_version": "1.5.0",
            "_view_name": "HTMLView",
            "description": "",
            "description_tooltip": null,
            "layout": "IPY_MODEL_e102474c127e4fa0a74cfba76e301c02",
            "placeholder": "​",
            "style": "IPY_MODEL_c1b42189de3d485b93ccbfbc8110715f",
            "value": " 115M/115M [00:00&lt;00:00, 211MB/s]"
          }
        },
        "189b7c54eafc4c37a6f34230b6016a28": {
          "model_module": "@jupyter-widgets/base",
          "model_name": "LayoutModel",
          "model_module_version": "1.2.0",
          "state": {
            "_model_module": "@jupyter-widgets/base",
            "_model_module_version": "1.2.0",
            "_model_name": "LayoutModel",
            "_view_count": null,
            "_view_module": "@jupyter-widgets/base",
            "_view_module_version": "1.2.0",
            "_view_name": "LayoutView",
            "align_content": null,
            "align_items": null,
            "align_self": null,
            "border": null,
            "bottom": null,
            "display": null,
            "flex": null,
            "flex_flow": null,
            "grid_area": null,
            "grid_auto_columns": null,
            "grid_auto_flow": null,
            "grid_auto_rows": null,
            "grid_column": null,
            "grid_gap": null,
            "grid_row": null,
            "grid_template_areas": null,
            "grid_template_columns": null,
            "grid_template_rows": null,
            "height": null,
            "justify_content": null,
            "justify_items": null,
            "left": null,
            "margin": null,
            "max_height": null,
            "max_width": null,
            "min_height": null,
            "min_width": null,
            "object_fit": null,
            "object_position": null,
            "order": null,
            "overflow": null,
            "overflow_x": null,
            "overflow_y": null,
            "padding": null,
            "right": null,
            "top": null,
            "visibility": null,
            "width": null
          }
        },
        "fdcd917acaa24c45bf36c22588e27f58": {
          "model_module": "@jupyter-widgets/base",
          "model_name": "LayoutModel",
          "model_module_version": "1.2.0",
          "state": {
            "_model_module": "@jupyter-widgets/base",
            "_model_module_version": "1.2.0",
            "_model_name": "LayoutModel",
            "_view_count": null,
            "_view_module": "@jupyter-widgets/base",
            "_view_module_version": "1.2.0",
            "_view_name": "LayoutView",
            "align_content": null,
            "align_items": null,
            "align_self": null,
            "border": null,
            "bottom": null,
            "display": null,
            "flex": null,
            "flex_flow": null,
            "grid_area": null,
            "grid_auto_columns": null,
            "grid_auto_flow": null,
            "grid_auto_rows": null,
            "grid_column": null,
            "grid_gap": null,
            "grid_row": null,
            "grid_template_areas": null,
            "grid_template_columns": null,
            "grid_template_rows": null,
            "height": null,
            "justify_content": null,
            "justify_items": null,
            "left": null,
            "margin": null,
            "max_height": null,
            "max_width": null,
            "min_height": null,
            "min_width": null,
            "object_fit": null,
            "object_position": null,
            "order": null,
            "overflow": null,
            "overflow_x": null,
            "overflow_y": null,
            "padding": null,
            "right": null,
            "top": null,
            "visibility": null,
            "width": null
          }
        },
        "8fee5cd965d74e069b446de0d3d5330b": {
          "model_module": "@jupyter-widgets/controls",
          "model_name": "DescriptionStyleModel",
          "model_module_version": "1.5.0",
          "state": {
            "_model_module": "@jupyter-widgets/controls",
            "_model_module_version": "1.5.0",
            "_model_name": "DescriptionStyleModel",
            "_view_count": null,
            "_view_module": "@jupyter-widgets/base",
            "_view_module_version": "1.2.0",
            "_view_name": "StyleView",
            "description_width": ""
          }
        },
        "87309e2c3f53402b8fc2d67fa53bc6c7": {
          "model_module": "@jupyter-widgets/base",
          "model_name": "LayoutModel",
          "model_module_version": "1.2.0",
          "state": {
            "_model_module": "@jupyter-widgets/base",
            "_model_module_version": "1.2.0",
            "_model_name": "LayoutModel",
            "_view_count": null,
            "_view_module": "@jupyter-widgets/base",
            "_view_module_version": "1.2.0",
            "_view_name": "LayoutView",
            "align_content": null,
            "align_items": null,
            "align_self": null,
            "border": null,
            "bottom": null,
            "display": null,
            "flex": null,
            "flex_flow": null,
            "grid_area": null,
            "grid_auto_columns": null,
            "grid_auto_flow": null,
            "grid_auto_rows": null,
            "grid_column": null,
            "grid_gap": null,
            "grid_row": null,
            "grid_template_areas": null,
            "grid_template_columns": null,
            "grid_template_rows": null,
            "height": null,
            "justify_content": null,
            "justify_items": null,
            "left": null,
            "margin": null,
            "max_height": null,
            "max_width": null,
            "min_height": null,
            "min_width": null,
            "object_fit": null,
            "object_position": null,
            "order": null,
            "overflow": null,
            "overflow_x": null,
            "overflow_y": null,
            "padding": null,
            "right": null,
            "top": null,
            "visibility": null,
            "width": null
          }
        },
        "0156cddb828241ec819ff1b5faa1fc65": {
          "model_module": "@jupyter-widgets/controls",
          "model_name": "ProgressStyleModel",
          "model_module_version": "1.5.0",
          "state": {
            "_model_module": "@jupyter-widgets/controls",
            "_model_module_version": "1.5.0",
            "_model_name": "ProgressStyleModel",
            "_view_count": null,
            "_view_module": "@jupyter-widgets/base",
            "_view_module_version": "1.2.0",
            "_view_name": "StyleView",
            "bar_color": null,
            "description_width": ""
          }
        },
        "e102474c127e4fa0a74cfba76e301c02": {
          "model_module": "@jupyter-widgets/base",
          "model_name": "LayoutModel",
          "model_module_version": "1.2.0",
          "state": {
            "_model_module": "@jupyter-widgets/base",
            "_model_module_version": "1.2.0",
            "_model_name": "LayoutModel",
            "_view_count": null,
            "_view_module": "@jupyter-widgets/base",
            "_view_module_version": "1.2.0",
            "_view_name": "LayoutView",
            "align_content": null,
            "align_items": null,
            "align_self": null,
            "border": null,
            "bottom": null,
            "display": null,
            "flex": null,
            "flex_flow": null,
            "grid_area": null,
            "grid_auto_columns": null,
            "grid_auto_flow": null,
            "grid_auto_rows": null,
            "grid_column": null,
            "grid_gap": null,
            "grid_row": null,
            "grid_template_areas": null,
            "grid_template_columns": null,
            "grid_template_rows": null,
            "height": null,
            "justify_content": null,
            "justify_items": null,
            "left": null,
            "margin": null,
            "max_height": null,
            "max_width": null,
            "min_height": null,
            "min_width": null,
            "object_fit": null,
            "object_position": null,
            "order": null,
            "overflow": null,
            "overflow_x": null,
            "overflow_y": null,
            "padding": null,
            "right": null,
            "top": null,
            "visibility": null,
            "width": null
          }
        },
        "c1b42189de3d485b93ccbfbc8110715f": {
          "model_module": "@jupyter-widgets/controls",
          "model_name": "DescriptionStyleModel",
          "model_module_version": "1.5.0",
          "state": {
            "_model_module": "@jupyter-widgets/controls",
            "_model_module_version": "1.5.0",
            "_model_name": "DescriptionStyleModel",
            "_view_count": null,
            "_view_module": "@jupyter-widgets/base",
            "_view_module_version": "1.2.0",
            "_view_name": "StyleView",
            "description_width": ""
          }
        },
        "69db27e2347948178a55e4f44a705496": {
          "model_module": "@jupyter-widgets/controls",
          "model_name": "HBoxModel",
          "model_module_version": "1.5.0",
          "state": {
            "_dom_classes": [],
            "_model_module": "@jupyter-widgets/controls",
            "_model_module_version": "1.5.0",
            "_model_name": "HBoxModel",
            "_view_count": null,
            "_view_module": "@jupyter-widgets/controls",
            "_view_module_version": "1.5.0",
            "_view_name": "HBoxView",
            "box_style": "",
            "children": [
              "IPY_MODEL_ca60ea3d94b74a0ba41ba1886214d04d",
              "IPY_MODEL_d6e3747dd5df4811ab09acd4c3ecbaa6",
              "IPY_MODEL_3f6c00a530384a0dbdc43cc2768bc05b"
            ],
            "layout": "IPY_MODEL_f401cc8c23a64ecf94175bd4027b6051"
          }
        },
        "ca60ea3d94b74a0ba41ba1886214d04d": {
          "model_module": "@jupyter-widgets/controls",
          "model_name": "HTMLModel",
          "model_module_version": "1.5.0",
          "state": {
            "_dom_classes": [],
            "_model_module": "@jupyter-widgets/controls",
            "_model_module_version": "1.5.0",
            "_model_name": "HTMLModel",
            "_view_count": null,
            "_view_module": "@jupyter-widgets/controls",
            "_view_module_version": "1.5.0",
            "_view_name": "HTMLView",
            "description": "",
            "description_tooltip": null,
            "layout": "IPY_MODEL_2fbeb7f419614355b100690a68fe66cd",
            "placeholder": "​",
            "style": "IPY_MODEL_d466cb176cec479fab5af97b96e325ac",
            "value": "model.safetensors: 100%"
          }
        },
        "d6e3747dd5df4811ab09acd4c3ecbaa6": {
          "model_module": "@jupyter-widgets/controls",
          "model_name": "FloatProgressModel",
          "model_module_version": "1.5.0",
          "state": {
            "_dom_classes": [],
            "_model_module": "@jupyter-widgets/controls",
            "_model_module_version": "1.5.0",
            "_model_name": "FloatProgressModel",
            "_view_count": null,
            "_view_module": "@jupyter-widgets/controls",
            "_view_module_version": "1.5.0",
            "_view_name": "ProgressView",
            "bar_style": "success",
            "description": "",
            "description_tooltip": null,
            "layout": "IPY_MODEL_05e0dc4a2a884b209472a200846844bf",
            "max": 46807446,
            "min": 0,
            "orientation": "horizontal",
            "style": "IPY_MODEL_8a9e5fc07acb4debb3c2c54c12df0b70",
            "value": 46807446
          }
        },
        "3f6c00a530384a0dbdc43cc2768bc05b": {
          "model_module": "@jupyter-widgets/controls",
          "model_name": "HTMLModel",
          "model_module_version": "1.5.0",
          "state": {
            "_dom_classes": [],
            "_model_module": "@jupyter-widgets/controls",
            "_model_module_version": "1.5.0",
            "_model_name": "HTMLModel",
            "_view_count": null,
            "_view_module": "@jupyter-widgets/controls",
            "_view_module_version": "1.5.0",
            "_view_name": "HTMLView",
            "description": "",
            "description_tooltip": null,
            "layout": "IPY_MODEL_44f94ec129034fe98a7c252d98b730ba",
            "placeholder": "​",
            "style": "IPY_MODEL_0f1d0d0337c94c99818dd43c83f10243",
            "value": " 46.8M/46.8M [00:00&lt;00:00, 232MB/s]"
          }
        },
        "f401cc8c23a64ecf94175bd4027b6051": {
          "model_module": "@jupyter-widgets/base",
          "model_name": "LayoutModel",
          "model_module_version": "1.2.0",
          "state": {
            "_model_module": "@jupyter-widgets/base",
            "_model_module_version": "1.2.0",
            "_model_name": "LayoutModel",
            "_view_count": null,
            "_view_module": "@jupyter-widgets/base",
            "_view_module_version": "1.2.0",
            "_view_name": "LayoutView",
            "align_content": null,
            "align_items": null,
            "align_self": null,
            "border": null,
            "bottom": null,
            "display": null,
            "flex": null,
            "flex_flow": null,
            "grid_area": null,
            "grid_auto_columns": null,
            "grid_auto_flow": null,
            "grid_auto_rows": null,
            "grid_column": null,
            "grid_gap": null,
            "grid_row": null,
            "grid_template_areas": null,
            "grid_template_columns": null,
            "grid_template_rows": null,
            "height": null,
            "justify_content": null,
            "justify_items": null,
            "left": null,
            "margin": null,
            "max_height": null,
            "max_width": null,
            "min_height": null,
            "min_width": null,
            "object_fit": null,
            "object_position": null,
            "order": null,
            "overflow": null,
            "overflow_x": null,
            "overflow_y": null,
            "padding": null,
            "right": null,
            "top": null,
            "visibility": null,
            "width": null
          }
        },
        "2fbeb7f419614355b100690a68fe66cd": {
          "model_module": "@jupyter-widgets/base",
          "model_name": "LayoutModel",
          "model_module_version": "1.2.0",
          "state": {
            "_model_module": "@jupyter-widgets/base",
            "_model_module_version": "1.2.0",
            "_model_name": "LayoutModel",
            "_view_count": null,
            "_view_module": "@jupyter-widgets/base",
            "_view_module_version": "1.2.0",
            "_view_name": "LayoutView",
            "align_content": null,
            "align_items": null,
            "align_self": null,
            "border": null,
            "bottom": null,
            "display": null,
            "flex": null,
            "flex_flow": null,
            "grid_area": null,
            "grid_auto_columns": null,
            "grid_auto_flow": null,
            "grid_auto_rows": null,
            "grid_column": null,
            "grid_gap": null,
            "grid_row": null,
            "grid_template_areas": null,
            "grid_template_columns": null,
            "grid_template_rows": null,
            "height": null,
            "justify_content": null,
            "justify_items": null,
            "left": null,
            "margin": null,
            "max_height": null,
            "max_width": null,
            "min_height": null,
            "min_width": null,
            "object_fit": null,
            "object_position": null,
            "order": null,
            "overflow": null,
            "overflow_x": null,
            "overflow_y": null,
            "padding": null,
            "right": null,
            "top": null,
            "visibility": null,
            "width": null
          }
        },
        "d466cb176cec479fab5af97b96e325ac": {
          "model_module": "@jupyter-widgets/controls",
          "model_name": "DescriptionStyleModel",
          "model_module_version": "1.5.0",
          "state": {
            "_model_module": "@jupyter-widgets/controls",
            "_model_module_version": "1.5.0",
            "_model_name": "DescriptionStyleModel",
            "_view_count": null,
            "_view_module": "@jupyter-widgets/base",
            "_view_module_version": "1.2.0",
            "_view_name": "StyleView",
            "description_width": ""
          }
        },
        "05e0dc4a2a884b209472a200846844bf": {
          "model_module": "@jupyter-widgets/base",
          "model_name": "LayoutModel",
          "model_module_version": "1.2.0",
          "state": {
            "_model_module": "@jupyter-widgets/base",
            "_model_module_version": "1.2.0",
            "_model_name": "LayoutModel",
            "_view_count": null,
            "_view_module": "@jupyter-widgets/base",
            "_view_module_version": "1.2.0",
            "_view_name": "LayoutView",
            "align_content": null,
            "align_items": null,
            "align_self": null,
            "border": null,
            "bottom": null,
            "display": null,
            "flex": null,
            "flex_flow": null,
            "grid_area": null,
            "grid_auto_columns": null,
            "grid_auto_flow": null,
            "grid_auto_rows": null,
            "grid_column": null,
            "grid_gap": null,
            "grid_row": null,
            "grid_template_areas": null,
            "grid_template_columns": null,
            "grid_template_rows": null,
            "height": null,
            "justify_content": null,
            "justify_items": null,
            "left": null,
            "margin": null,
            "max_height": null,
            "max_width": null,
            "min_height": null,
            "min_width": null,
            "object_fit": null,
            "object_position": null,
            "order": null,
            "overflow": null,
            "overflow_x": null,
            "overflow_y": null,
            "padding": null,
            "right": null,
            "top": null,
            "visibility": null,
            "width": null
          }
        },
        "8a9e5fc07acb4debb3c2c54c12df0b70": {
          "model_module": "@jupyter-widgets/controls",
          "model_name": "ProgressStyleModel",
          "model_module_version": "1.5.0",
          "state": {
            "_model_module": "@jupyter-widgets/controls",
            "_model_module_version": "1.5.0",
            "_model_name": "ProgressStyleModel",
            "_view_count": null,
            "_view_module": "@jupyter-widgets/base",
            "_view_module_version": "1.2.0",
            "_view_name": "StyleView",
            "bar_color": null,
            "description_width": ""
          }
        },
        "44f94ec129034fe98a7c252d98b730ba": {
          "model_module": "@jupyter-widgets/base",
          "model_name": "LayoutModel",
          "model_module_version": "1.2.0",
          "state": {
            "_model_module": "@jupyter-widgets/base",
            "_model_module_version": "1.2.0",
            "_model_name": "LayoutModel",
            "_view_count": null,
            "_view_module": "@jupyter-widgets/base",
            "_view_module_version": "1.2.0",
            "_view_name": "LayoutView",
            "align_content": null,
            "align_items": null,
            "align_self": null,
            "border": null,
            "bottom": null,
            "display": null,
            "flex": null,
            "flex_flow": null,
            "grid_area": null,
            "grid_auto_columns": null,
            "grid_auto_flow": null,
            "grid_auto_rows": null,
            "grid_column": null,
            "grid_gap": null,
            "grid_row": null,
            "grid_template_areas": null,
            "grid_template_columns": null,
            "grid_template_rows": null,
            "height": null,
            "justify_content": null,
            "justify_items": null,
            "left": null,
            "margin": null,
            "max_height": null,
            "max_width": null,
            "min_height": null,
            "min_width": null,
            "object_fit": null,
            "object_position": null,
            "order": null,
            "overflow": null,
            "overflow_x": null,
            "overflow_y": null,
            "padding": null,
            "right": null,
            "top": null,
            "visibility": null,
            "width": null
          }
        },
        "0f1d0d0337c94c99818dd43c83f10243": {
          "model_module": "@jupyter-widgets/controls",
          "model_name": "DescriptionStyleModel",
          "model_module_version": "1.5.0",
          "state": {
            "_model_module": "@jupyter-widgets/controls",
            "_model_module_version": "1.5.0",
            "_model_name": "DescriptionStyleModel",
            "_view_count": null,
            "_view_module": "@jupyter-widgets/base",
            "_view_module_version": "1.2.0",
            "_view_name": "StyleView",
            "description_width": ""
          }
        }
      }
    }
  },
  "nbformat": 4,
  "nbformat_minor": 5
}